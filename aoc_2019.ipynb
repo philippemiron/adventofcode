{
 "cells": [
  {
   "cell_type": "code",
   "execution_count": 1,
   "metadata": {},
   "outputs": [],
   "source": [
    "import numpy as np\n",
    "import matplotlib.pyplot as plt\n",
    "from matplotlib.path import Path\n",
    "from aocd.models import Puzzle"
   ]
  },
  {
   "cell_type": "markdown",
   "metadata": {},
   "source": [
    "# Day 1"
   ]
  },
  {
   "cell_type": "code",
   "execution_count": 2,
   "metadata": {},
   "outputs": [],
   "source": [
    "def fuel(mass):\n",
    "    return np.floor(mass/3)-2\n",
    "\n",
    "def recursive_fuel(mass):\n",
    "    total_fuel = 0\n",
    "    while np.any(mass > 0):\n",
    "        mass = fuel(mass)\n",
    "        total_fuel += np.maximum(mass, 0)\n",
    "    return total_fuel      "
   ]
  },
  {
   "cell_type": "code",
   "execution_count": 3,
   "metadata": {},
   "outputs": [
    {
     "name": "stdout",
     "output_type": "stream",
     "text": [
      "Total full needed for all module is 3538016.\n",
      "Total full (and the fuel of fuel) needed for all module is 5304147.\n"
     ]
    }
   ],
   "source": [
    "# test\n",
    "fuel(12) == 2.0\n",
    "fuel(14) == 2.0\n",
    "fuel(1969) == 654.0\n",
    "fuel(100756) == 33583.0\n",
    "recursive_fuel(14) == 2.0\n",
    "recursive_fuel(1969) == 966\n",
    "recursive_fuel(100756) == 50346.0\n",
    "\n",
    "p = Puzzle(year=2019, day=1)\n",
    "module_mass = np.array(p.input_data.split('\\n'), dtype='int')\n",
    "\n",
    "p.answer_a = int(np.sum(fuel(module_mass)))\n",
    "p.answer_b = int(np.sum(recursive_fuel(module_mass)))\n",
    "\n",
    "print('Total full needed for all module is %s.' % p.answer_a)\n",
    "print('Total full (and the fuel of fuel) needed for all module is %s.' % p.answer_b)"
   ]
  },
  {
   "cell_type": "markdown",
   "metadata": {},
   "source": [
    "# Day 2"
   ]
  },
  {
   "cell_type": "code",
   "execution_count": 4,
   "metadata": {},
   "outputs": [],
   "source": [
    "def run_intcode(code):\n",
    "    ptr = 0\n",
    "    opcode = code[ptr]\n",
    "    while opcode != 99:\n",
    "        param1 = code[ptr+1]\n",
    "        param2 = code[ptr+2]\n",
    "        out  = code[ptr+3]\n",
    "        \n",
    "        # addition\n",
    "        if opcode == 1:\n",
    "            code[out] = code[param1] + code[param2]\n",
    "        \n",
    "        # multiplication\n",
    "        elif opcode == 2:\n",
    "            code[out] = code[param1] * code[param2]\n",
    "        \n",
    "        else:\n",
    "            print('Error while processing.')\n",
    "            return code\n",
    "        \n",
    "        # move pointer\n",
    "        ptr += 4\n",
    "        opcode = code[ptr]\n",
    "    return code"
   ]
  },
  {
   "cell_type": "code",
   "execution_count": 5,
   "metadata": {},
   "outputs": [
    {
     "name": "stdout",
     "output_type": "stream",
     "text": [
      "Part a already solved with same answer: 4714701\n",
      "The value left at address 0 is 4714701.\n",
      "The answer of: 100 * noun + verb = 5121.\n"
     ]
    }
   ],
   "source": [
    "p = Puzzle(year=2019, day=2)\n",
    "intcode = list(map(int, p.input_data.split(',')))\n",
    "\n",
    "# part a: reset to the 1202 program alarm\n",
    "intcode_i = np.copy(intcode)\n",
    "intcode_i[1] = 12\n",
    "intcode_i[2] = 2\n",
    "out = run_intcode(intcode_i)\n",
    "p.answer_a = out[0]\n",
    "print('The value left at address 0 is %s.' % p.answer_a)\n",
    "\n",
    "# part b : search parameters that give a specific result\n",
    "find = False\n",
    "result = 19690720\n",
    "for noun in range(0, 100):\n",
    "    for verb in range(0, 100):\n",
    "        intcode_i = np.copy(intcode)\n",
    "        intcode_i[1] = noun\n",
    "        intcode_i[2] = verb\n",
    "        out = run_intcode(intcode_i)\n",
    "        if out[0] == result:\n",
    "            p.answer_b = (100 * noun + verb)\n",
    "            find = True\n",
    "            break   \n",
    "    if find: \n",
    "        break\n",
    "print('The answer of: 100 * noun + verb = %s.' % p.answer_b)"
   ]
  },
  {
   "cell_type": "markdown",
   "metadata": {},
   "source": [
    "# Day 3"
   ]
  },
  {
   "cell_type": "code",
   "execution_count": 6,
   "metadata": {},
   "outputs": [],
   "source": [
    "# dictionarry with keys (x,y) of each point \n",
    "# and value the number step from the beginning\n",
    "def create_line(moves):\n",
    "    l = {}\n",
    "    \n",
    "    # current position\n",
    "    x, y = 0,0\n",
    "    step = 0\n",
    "    for move in moves:\n",
    "        direction = move[0]\n",
    "        steps = int(move[1:])\n",
    "        \n",
    "        # set move in both direction\n",
    "        move_x, move_y = 0,0\n",
    "        if direction == 'U':\n",
    "            move_y = 1\n",
    "        elif direction == 'D':\n",
    "            move_y = -1\n",
    "        elif direction == 'R':\n",
    "            move_x = 1\n",
    "        elif direction == 'L':\n",
    "            move_x = -1\n",
    "        else:\n",
    "            print('Wrong direction')\n",
    "            return l\n",
    "        \n",
    "        for _ in range(0, steps):\n",
    "            x += move_x\n",
    "            y += move_y\n",
    "            step += 1\n",
    "            \n",
    "            if (x,y) not in l:  # don't have to store doubles\n",
    "                l[(x,y)] = step\n",
    "    return l\n",
    "\n",
    "def closest_crossing(intersections):\n",
    "    d = []\n",
    "    for i in intersections:\n",
    "        d.append(abs(i[0]) + abs(i[1]))\n",
    "    return min(d)\n",
    "\n",
    "def min_combined_steps(l1, l2, intersection):\n",
    "    steps = []\n",
    "    for i in intersections:\n",
    "        steps.append(l1[i] + l2[i])\n",
    "    return min(steps)"
   ]
  },
  {
   "cell_type": "code",
   "execution_count": 7,
   "metadata": {},
   "outputs": [],
   "source": [
    "p = Puzzle(2019, 3)\n",
    "data = p.input_data.split('\\n')"
   ]
  },
  {
   "cell_type": "code",
   "execution_count": 8,
   "metadata": {},
   "outputs": [
    {
     "name": "stdout",
     "output_type": "stream",
     "text": [
      "The closest intersection is at a distance of 870.\n",
      "The fewest combined steps to an intersection is 13698.\n"
     ]
    }
   ],
   "source": [
    "raw_move_1 = data[0].split(',')\n",
    "raw_move_2 = data[1].split(',')\n",
    "\n",
    "l1 = create_line(raw_move_1)\n",
    "l2 = create_line(raw_move_2)\n",
    "\n",
    "# Get the intersections for both lines\n",
    "intersections = l1.keys() & l2.keys()\n",
    "p1 = closest_crossing(intersections)\n",
    "p2 = min_combined_steps(l1, l2, intersections)\n",
    "\n",
    "p.answer_a = p1\n",
    "p.answer_b = p2\n",
    "print('The closest intersection is at a distance of %d.' % p1)\n",
    "print('The fewest combined steps to an intersection is %d.' % p2)"
   ]
  },
  {
   "cell_type": "markdown",
   "metadata": {},
   "source": [
    "# Day 4"
   ]
  },
  {
   "cell_type": "code",
   "execution_count": 9,
   "metadata": {},
   "outputs": [],
   "source": [
    "def increasing_order(num):\n",
    "    num_s = str(num)\n",
    "    for i in range(0, len(num_s)-1):\n",
    "        if num_s[i] > num_s[i+1]:\n",
    "            return False\n",
    "    return True\n",
    "\n",
    "def repeating_adjacent_digit(num):\n",
    "    num_s = str(num)\n",
    "    for i in range(0, len(num_s)-1):\n",
    "        if num_s[i] == num_s[i+1]:\n",
    "            return True\n",
    "    return False\n",
    "\n",
    "def repeating_adjacent_digit_p2(num):\n",
    "    digit_repeat = {}\n",
    "    num_s = str(num)\n",
    "    for i in range(0, len(num_s)-1):\n",
    "        if num_s[i] == num_s[i+1]:\n",
    "            if num_s[i] in digit_repeat:\n",
    "                digit_repeat[num_s[i]] += 1\n",
    "            else:\n",
    "                digit_repeat[num_s[i]] = 1\n",
    "                \n",
    "    # has to be only 1 repetition of at least 1 digit\n",
    "    for d in digit_repeat:\n",
    "        if digit_repeat[d] == 1:\n",
    "            return True\n",
    "    return False"
   ]
  },
  {
   "cell_type": "code",
   "execution_count": 10,
   "metadata": {},
   "outputs": [],
   "source": [
    "p = Puzzle(2019, 4)\n",
    "min_i, max_i = map(int, p.input_data.split('-'))"
   ]
  },
  {
   "cell_type": "code",
   "execution_count": 11,
   "metadata": {},
   "outputs": [
    {
     "name": "stdout",
     "output_type": "stream",
     "text": [
      "There are 544 valid password in that range.\n"
     ]
    }
   ],
   "source": [
    "# input is the password range 356261-846303\n",
    "c = 0\n",
    "for i in range(min_i, max_i):\n",
    "    if increasing_order(i) & repeating_adjacent_digit(i):\n",
    "        c += 1\n",
    "\n",
    "p.answer_a = c\n",
    "print('There are %d valid password in that range.' % c)"
   ]
  },
  {
   "cell_type": "code",
   "execution_count": 12,
   "metadata": {},
   "outputs": [
    {
     "name": "stdout",
     "output_type": "stream",
     "text": [
      "There are 334 valid password in that range.\n"
     ]
    }
   ],
   "source": [
    "# input is the password range 356261-846303\n",
    "\n",
    "c = 0\n",
    "for i in range(min_i, max_i):\n",
    "    if increasing_order(i) & repeating_adjacent_digit_p2(i):\n",
    "        c += 1\n",
    "\n",
    "p.answer_b = c\n",
    "print('There are %d valid password in that range.' % c)"
   ]
  },
  {
   "cell_type": "markdown",
   "metadata": {},
   "source": [
    "# Day 5"
   ]
  },
  {
   "cell_type": "code",
   "execution_count": 13,
   "metadata": {},
   "outputs": [],
   "source": [
    "def param_mode(code, value, mode):\n",
    "    if mode == 0:\n",
    "        return code[code[value]]\n",
    "    if mode == 1:\n",
    "        return code[value]\n",
    "\n",
    "def mode_and_instruction(s):\n",
    "    len_ins = len(s)\n",
    "    a, b, c = 0, 0, 0\n",
    "    if len_ins == 4:\n",
    "        c = int(s[1])\n",
    "        b = int(s[0])\n",
    "        opcode = int(s[2:])\n",
    "    elif len_ins == 3:\n",
    "        c = int(s[0])\n",
    "        opcode = int(s[2:])\n",
    "    elif len_ins == 2:\n",
    "        opcode = int(s)\n",
    "    else:\n",
    "        opcode = int(s)\n",
    "    return a, b, c, opcode\n",
    "    \n",
    "def run_intcode_v2(code, input_code):\n",
    "    ptr = 0\n",
    "    opcode_str = str(code[ptr])\n",
    "    while opcode_str != '99':  # exit opcode\n",
    "        \n",
    "        # parse mode and instruction\n",
    "        a, b, c, opcode = mode_and_instruction(opcode_str)\n",
    "        \n",
    "        # addition\n",
    "        if opcode == 1:\n",
    "            param1 = param_mode(code, ptr+1, c)\n",
    "            param2 = param_mode(code, ptr+2, b)\n",
    "            param3 = code[ptr+3]\n",
    "            code[param3] = param1 + param2\n",
    "            move_ptr = 4\n",
    "        \n",
    "        # multiplication\n",
    "        elif opcode == 2:\n",
    "            param1 = param_mode(code, ptr+1, c)\n",
    "            param2 = param_mode(code, ptr+2, b)\n",
    "            param3 = code[ptr+3]\n",
    "            code[param3] = param1 * param2\n",
    "            move_ptr = 4\n",
    "        \n",
    "        # save input parameter to position\n",
    "        elif opcode == 3:\n",
    "            param1 = code[ptr+1]\n",
    "            code[param1] = input_code\n",
    "            move_ptr = 2\n",
    "        \n",
    "        # output the only parameter\n",
    "        elif opcode == 4:\n",
    "            param1 = param_mode(code, ptr+1, c)\n",
    "            print('$ Diagnostic code %d.' % param1)\n",
    "            move_ptr = 2\n",
    "            \n",
    "        # jump-if-true\n",
    "        elif opcode == 5:\n",
    "            param1 = param_mode(code, ptr+1, c)\n",
    "            param2 = param_mode(code, ptr+2, b)\n",
    "            if param1:\n",
    "                ptr = param2\n",
    "                move_ptr = 0\n",
    "            else:\n",
    "                move_ptr = 3\n",
    "        \n",
    "        # jump-if-false\n",
    "        elif opcode == 6:\n",
    "            param1 = param_mode(code, ptr+1, c)\n",
    "            param2 = param_mode(code, ptr+2, b)\n",
    "            if param1 == 0:\n",
    "                ptr = param2\n",
    "                move_ptr = 0\n",
    "            else:\n",
    "                move_ptr = 3\n",
    "        \n",
    "        # if less than\n",
    "        elif opcode == 7:\n",
    "            param1 = param_mode(code, ptr+1, c)\n",
    "            param2 = param_mode(code, ptr+2, b)\n",
    "            param3 = code[ptr+3]\n",
    "            if param1 < param2:\n",
    "                code[param3] = 1\n",
    "            else:\n",
    "                code[param3] = 0\n",
    "            move_ptr = 4\n",
    "        \n",
    "        # if equals\n",
    "        elif opcode == 8:\n",
    "            param1 = param_mode(code, ptr+1, c)\n",
    "            param2 = param_mode(code, ptr+2, b)\n",
    "            param3 = code[ptr+3]\n",
    "            if param1 == param2:\n",
    "                code[param3] = 1\n",
    "            else:\n",
    "                code[param3] = 0\n",
    "            move_ptr = 4\n",
    "        else:\n",
    "            print('Error while processing.')\n",
    "            return code\n",
    "        \n",
    "        # move the pointer\n",
    "        ptr += move_ptr\n",
    "        opcode_str = str(code[ptr])\n",
    "    return code, param1"
   ]
  },
  {
   "cell_type": "code",
   "execution_count": 14,
   "metadata": {},
   "outputs": [],
   "source": [
    "p = Puzzle(2019, 5)\n",
    "data = list(map(int, p.input_data.split(',')))"
   ]
  },
  {
   "cell_type": "code",
   "execution_count": 15,
   "metadata": {},
   "outputs": [
    {
     "name": "stdout",
     "output_type": "stream",
     "text": [
      "$ Diagnostic code 0.\n",
      "$ Diagnostic code 0.\n",
      "$ Diagnostic code 0.\n",
      "$ Diagnostic code 0.\n",
      "$ Diagnostic code 0.\n",
      "$ Diagnostic code 0.\n",
      "$ Diagnostic code 0.\n",
      "$ Diagnostic code 0.\n",
      "$ Diagnostic code 0.\n",
      "$ Diagnostic code 15097178.\n",
      "Part a already solved with same answer: 15097178\n"
     ]
    }
   ],
   "source": [
    "# part one with input: 1\n",
    "intcode_i = np.copy(data)\n",
    "outcode, param1 = run_intcode_v2(intcode_i, input_code=1)\n",
    "\n",
    "p.answer_a = param1"
   ]
  },
  {
   "cell_type": "code",
   "execution_count": 16,
   "metadata": {},
   "outputs": [
    {
     "name": "stdout",
     "output_type": "stream",
     "text": [
      "$ Diagnostic code 1558663.\n",
      "Part b already solved with same answer: 1558663\n"
     ]
    }
   ],
   "source": [
    "# part two with input: 5\n",
    "intcode_i = np.copy(data)\n",
    "outcode, param1 = run_intcode_v2(intcode_i, input_code=5)\n",
    "\n",
    "p.answer_b = param1"
   ]
  },
  {
   "cell_type": "markdown",
   "metadata": {},
   "source": [
    "# Day 6"
   ]
  },
  {
   "cell_type": "code",
   "execution_count": null,
   "metadata": {},
   "outputs": [],
   "source": []
  }
 ],
 "metadata": {
  "kernelspec": {
   "display_name": "Python 3 (ipykernel)",
   "language": "python",
   "name": "python3"
  },
  "language_info": {
   "codemirror_mode": {
    "name": "ipython",
    "version": 3
   },
   "file_extension": ".py",
   "mimetype": "text/x-python",
   "name": "python",
   "nbconvert_exporter": "python",
   "pygments_lexer": "ipython3",
   "version": "3.11.0"
  }
 },
 "nbformat": 4,
 "nbformat_minor": 4
}
