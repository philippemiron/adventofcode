{
 "cells": [
  {
   "cell_type": "markdown",
   "metadata": {},
   "source": [
    "# https://adventofcode.com/2020/"
   ]
  },
  {
   "cell_type": "code",
   "execution_count": 94,
   "metadata": {},
   "outputs": [],
   "source": [
    "import numpy as np\n",
    "from aocd.models import Puzzle"
   ]
  },
  {
   "cell_type": "markdown",
   "metadata": {},
   "source": [
    "# Tips\n",
    "\n",
    "## Define the object\n",
    "- `puzzle = Puzzle(year=2017, day=20)` \n",
    "- `Puzzle(2017, 20) at 0x107322978 - Particle Swarm>`\n",
    "- get the input `puzzle.input_data`\n",
    "- subbit by setting:\n",
    "  - `puzzle.answer_a = value_a`\n",
    "  - `puzzle.answer_b = value_b`\n",
    "\n",
    "## Variables on multiple lines like such: \n",
    " - t = '''asd\n",
    "        asd \n",
    "        asd \n",
    "        asd'''\n",
    "## Map a string list to integer map(int, list)"
   ]
  },
  {
   "cell_type": "markdown",
   "metadata": {},
   "source": [
    "## Day 1"
   ]
  },
  {
   "cell_type": "code",
   "execution_count": 2,
   "metadata": {},
   "outputs": [],
   "source": [
    "# O(N)\n",
    "def find_couple(data, sum):\n",
    "    for n1 in data:\n",
    "        n2 = sum - n1\n",
    "        if n2 in data:\n",
    "            return (n1, n2)\n",
    "\n",
    "# O(N^2)\n",
    "def find_trouple(data, sum):\n",
    "    for i, n1 in enumerate(data):\n",
    "        for n2 in data[i+1:]: # starts at i + 1 !\n",
    "            n3 = sum - n1 - n2\n",
    "            if n3 in data:\n",
    "                return (n1, n2, n3)"
   ]
  },
  {
   "cell_type": "code",
   "execution_count": 3,
   "metadata": {},
   "outputs": [
    {
     "name": "stdout",
     "output_type": "stream",
     "text": [
      "Part a already solved with same answer: 270144\n",
      "The two numbers are 144 and 1876.\n",
      "Sum = 2020 Prod = 270144\n",
      "Part b already solved with same answer: 261342720\n",
      "The three numbers are 512, 513 and 995.\n",
      "Sum = 2020 Prod = 261342720\n"
     ]
    }
   ],
   "source": [
    "# tests\n",
    "t = [1721, 979, 366, 299, 675, 1456]\n",
    "assert find_couple(np.sort(t), 2020) == (299, 1721)\n",
    "assert find_trouple(np.sort(t), 2020) == (366, 675, 979)\n",
    "\n",
    "# puzzle\n",
    "p = Puzzle(2020, 1)\n",
    "# an old man said it is always best to first sort\n",
    "data = np.sort(list(map(int, p.input_data.split('\\n'))))  \n",
    "\n",
    "n1, n2 = find_couple(data, 2020)\n",
    "p.answer_a = n1*n2\n",
    "print('The two numbers are %d and %d.' % (n1, n2))\n",
    "print('Sum = %d Prod = %d' % (n1+n2, n1*n2))\n",
    "\n",
    "n1, n2, n3 = find_trouple(data, 2020)\n",
    "p.answer_b = n1*n2*n3\n",
    "print('The three numbers are %d, %d and %d.' % (n1, n2, n3))\n",
    "print('Sum = %d Prod = %d' % (n1+n2+n3, n1*n2*n3))"
   ]
  },
  {
   "cell_type": "markdown",
   "metadata": {},
   "source": [
    "## Day 2"
   ]
  },
  {
   "cell_type": "code",
   "execution_count": 4,
   "metadata": {},
   "outputs": [],
   "source": [
    "def parse_line(line):\n",
    "    s = line.split()\n",
    "    i1, i2 = map(int, s[0].split('-'))\n",
    "    letter = s[1][:-1]\n",
    "    userpass = s[2]\n",
    "    return i1, i2, letter, userpass\n",
    "\n",
    "def test_password_p1(lowc, highc, letter, password):\n",
    "    repeated_letter = password.count(letter)\n",
    "    if repeated_letter >= lowc and repeated_letter <= highc:\n",
    "        return True\n",
    "    else:\n",
    "        return False\n",
    "\n",
    "def test_password_p2(pos1, pos2, letter, password):\n",
    "    if  (password[pos1-1] == letter) ^ (password[pos2-1] == letter):  # exclusive or\n",
    "        return True\n",
    "    else:\n",
    "        return False"
   ]
  },
  {
   "cell_type": "code",
   "execution_count": 5,
   "metadata": {},
   "outputs": [
    {
     "name": "stdout",
     "output_type": "stream",
     "text": [
      "620 valid passwords according to the 1st policies.\n",
      "727 valid passwords according to the 2nd policies.\n"
     ]
    }
   ],
   "source": [
    "# test\n",
    "t = '''1-3 a: abcde\n",
    "1-3 b: cdefg\n",
    "2-9 c: ccccccccc'''.split('\\n')\n",
    "\n",
    "c1, c2 = 0, 0\n",
    "for line in t:\n",
    "    i1, i2, l, userpass = parse_line(line)\n",
    "    if test_password_p1(i1, i2, l, userpass):\n",
    "        c1 += 1\n",
    "    if test_password_p2(i1, i2, l, userpass):\n",
    "        c2 += 1\n",
    "assert c1 == 2\n",
    "assert c2 == 1\n",
    "\n",
    "# puzzle\n",
    "p = Puzzle(2020, 2)\n",
    "data = p.input_data.split('\\n')\n",
    "\n",
    "p1, p2 = 0, 0\n",
    "for line in data:\n",
    "    # parsing line by line\n",
    "    i1, i2, l, userpass = parse_line(line)\n",
    "    \n",
    "    if test_password_p1(i1, i2, l, userpass):\n",
    "        p1 += 1\n",
    "    if test_password_p2(i1, i2, l, userpass):\n",
    "        p2 += 1\n",
    "\n",
    "p.answer_a = p1\n",
    "p.answer_b = p2\n",
    "print('%d valid passwords according to the 1st policies.' % p1)\n",
    "print('%d valid passwords according to the 2nd policies.' % p2)"
   ]
  },
  {
   "cell_type": "markdown",
   "metadata": {},
   "source": [
    "# Day 3"
   ]
  },
  {
   "cell_type": "code",
   "execution_count": 6,
   "metadata": {},
   "outputs": [],
   "source": [
    "def traverse_field(field, move_x, move_y):\n",
    "    field_max_y = len(field)\n",
    "    field_max_x = len(field[0])\n",
    "    \n",
    "    x, y, trees = 0, 0, 0\n",
    "    while y < field_max_y:\n",
    "        if field[y][x] == '#':\n",
    "            trees += 1\n",
    "        x = (x + move_x) % field_max_x  # pattern repeats to the right\n",
    "        y += move_y\n",
    "    return trees"
   ]
  },
  {
   "cell_type": "code",
   "execution_count": 7,
   "metadata": {},
   "outputs": [
    {
     "name": "stdout",
     "output_type": "stream",
     "text": [
      "There are 252 trees in the path for part 1.\n",
      "There are 2608962048 trees (multiplied) in the path for part 2.\n"
     ]
    }
   ],
   "source": [
    "# test\n",
    "t = '''..##.......\n",
    "#...#...#..\n",
    ".#....#..#.\n",
    "..#.#...#.#\n",
    ".#...##..#.\n",
    "..#.##.....\n",
    ".#.#.#....#\n",
    ".#........#\n",
    "#.##...#...\n",
    "#...##....#\n",
    ".#..#...#.#'''.split('\\n')\n",
    "assert traverse_field(t, 3, 1) == 7\n",
    "\n",
    "# puzzle\n",
    "p = Puzzle(2020, 3)\n",
    "field = p.input_data.split('\\n')\n",
    "\n",
    "trees = traverse_field(field, 3, 1)\n",
    "p.answer_a = trees\n",
    "print('There are %d trees in the path for part 1.' % trees)\n",
    "\n",
    "mul_trees = 1\n",
    "for move in [(1,1), (3,1), (5,1), (7,1), (1,2)]:\n",
    "    mul_trees *= traverse_field(field, move[0], move[1])\n",
    "p.answer_b = mul_trees\n",
    "print('There are %d trees (multiplied) in the path for part 2.' % mul_trees)"
   ]
  },
  {
   "cell_type": "markdown",
   "metadata": {},
   "source": [
    "# Day 4"
   ]
  },
  {
   "cell_type": "code",
   "execution_count": 8,
   "metadata": {},
   "outputs": [],
   "source": [
    "class Passport:  \n",
    "    def __init__(self):\n",
    "        self.byr = None\n",
    "        self.iyr = None\n",
    "        self.eyr = None\n",
    "        self.hgt = None\n",
    "        self.hcl = None\n",
    "        self.ecl = None\n",
    "        self.pid = None\n",
    "        self.cid = None\n",
    "    \n",
    "    def set_key(self, key_str, value):\n",
    "        if key_str == 'byr':\n",
    "            self.byr = int(value)\n",
    "        elif key_str == 'iyr':\n",
    "            self.iyr = int(value)\n",
    "        elif key_str == 'eyr':\n",
    "            self.eyr = int(value)\n",
    "        elif key_str == 'hgt':\n",
    "            self.hgt = value\n",
    "        elif key_str == 'hcl':\n",
    "            self.hcl = value\n",
    "        elif key_str == 'ecl':\n",
    "            self.ecl = value\n",
    "        elif key_str == 'pid':\n",
    "            self.pid = value\n",
    "        elif key_str == 'cid':\n",
    "            self.cid = value\n",
    "        else:\n",
    "            print(key_str)\n",
    "            print('wrong key')\n",
    "            \n",
    "    def validate_field(self):\n",
    "        for property, value in vars(self).items():\n",
    "            if value == None and property is not 'cid':  # cid is not mandatory\n",
    "                return False\n",
    "        else:\n",
    "            return True\n",
    "    \n",
    "    @staticmethod\n",
    "    def valid_year(value, min_y, max_y):\n",
    "        if value >= min_y and value <= max_y:\n",
    "            return True\n",
    "        else:\n",
    "            return False\n",
    "    \n",
    "    @staticmethod\n",
    "    def valid_height(hgt):\n",
    "        if len(hgt) < 4:\n",
    "            return False\n",
    "        \n",
    "        unit = hgt[-2:]\n",
    "        value = int(hgt[:-2])\n",
    "        if unit == 'cm':\n",
    "            if value >= 150 and value <= 193:\n",
    "                return True\n",
    "        \n",
    "        if unit == 'in':\n",
    "            if value >= 59 and value <= 76:\n",
    "                return True\n",
    "        return False\n",
    "    \n",
    "    @staticmethod\n",
    "    def valid_hair_color(hcl):\n",
    "        tag = hcl[0]\n",
    "        color = hcl[1:]\n",
    "        if tag != '#':\n",
    "            return False\n",
    "        if len(color) != 6:\n",
    "            return False\n",
    "        \n",
    "        for c in color:\n",
    "            if c not in 'abcdef0123456789':\n",
    "                return False\n",
    "        return True\n",
    "    \n",
    "    def validate_data(self):\n",
    "        # first check field\n",
    "        if not self.validate_field():\n",
    "            return False\n",
    "        \n",
    "        # then validate the data\n",
    "        if not Passport.valid_year(self.byr, 1920, 2002):\n",
    "            return False\n",
    "        if not Passport.valid_year(self.iyr, 2010, 2020):\n",
    "            return False\n",
    "        if not Passport.valid_year(self.eyr, 2020, 2030):\n",
    "            return False\n",
    "        if not Passport.valid_height(self.hgt):\n",
    "            return False\n",
    "        if not Passport.valid_hair_color(self.hcl):\n",
    "            return False\n",
    "        if self.ecl not in ['amb', 'blu', 'brn', 'gry', 'grn', 'hzl', 'oth']:\n",
    "            return False\n",
    "        if not self.pid.isnumeric() or not len(self.pid) == 9:\n",
    "            return False\n",
    "        \n",
    "        return True"
   ]
  },
  {
   "cell_type": "code",
   "execution_count": 9,
   "metadata": {},
   "outputs": [],
   "source": [
    "# test\n",
    "file = '''ecl:gry pid:860033327 eyr:2020 hcl:#fffffd\n",
    "byr:1937 iyr:2017 cid:147 hgt:183cm\n",
    "\n",
    "iyr:2013 ecl:amb cid:350 eyr:2023 pid:028048884\n",
    "hcl:#cfa07d byr:1929\n",
    "\n",
    "hcl:#ae17e1 iyr:2013\n",
    "eyr:2024\n",
    "ecl:brn pid:760753108 byr:1931\n",
    "hgt:179cm\n",
    "\n",
    "hcl:#cfa07d eyr:2025 pid:166559648\n",
    "iyr:2011 ecl:brn hgt:59in'''.split('\\n')\n",
    "\n",
    "c1, c2 = 0, 0\n",
    "p = Passport()  # init obj\n",
    "for line in file:\n",
    "    if line == '':\n",
    "        # validate required fields\n",
    "        if p.validate_field():\n",
    "            c1 += 1\n",
    "\n",
    "        # validate values\n",
    "        if p.validate_data():\n",
    "            c2 += 1\n",
    "\n",
    "        # reset passport\n",
    "        p = Passport()\n",
    "    else:\n",
    "        for sequence in line.split():\n",
    "            kv = sequence.split(':')\n",
    "            p.set_key(kv[0], kv[1])\n",
    "else:  # end of file (last passport)\n",
    "    if p.validate_field():  \n",
    "            c1 += 1\n",
    "    if p.validate_data():\n",
    "            c2 += 1\n",
    "\n",
    "assert c1 == 2"
   ]
  },
  {
   "cell_type": "code",
   "execution_count": 10,
   "metadata": {},
   "outputs": [
    {
     "name": "stdout",
     "output_type": "stream",
     "text": [
      "There are 228 passports with required fields.\n",
      "There are 175 passports with valid data.\n"
     ]
    }
   ],
   "source": [
    "pu = Puzzle(year=2020, day=4)\n",
    "file = pu.input_data.split('\\n')\n",
    "\n",
    "c1, c2 = 0, 0\n",
    "p = Passport()  # init obj\n",
    "for line in file:\n",
    "    if line == '':\n",
    "        # validate required fields\n",
    "        if p.validate_field():\n",
    "            c1 += 1\n",
    "\n",
    "        # validate values\n",
    "        if p.validate_data():\n",
    "            c2 += 1\n",
    "\n",
    "        # reset passport\n",
    "        p = Passport()\n",
    "    else:\n",
    "        for sequence in line.split():\n",
    "            kv = sequence.split(':')\n",
    "            p.set_key(kv[0], kv[1])\n",
    "else:  # end of file (last passport)\n",
    "    if p.validate_field():  \n",
    "            c1 += 1\n",
    "    if p.validate_data():\n",
    "            c2 += 1\n",
    "\n",
    "print('There are %d passports with required fields.' % c1)\n",
    "print('There are %d passports with valid data.' % c2)"
   ]
  },
  {
   "cell_type": "markdown",
   "metadata": {},
   "source": [
    "# Day 5"
   ]
  },
  {
   "cell_type": "code",
   "execution_count": 11,
   "metadata": {},
   "outputs": [],
   "source": [
    "# convert the code 'FBLR' with dict = {'F': '0', 'B': '1'}\n",
    "# to binary and return the corresponding int\n",
    "def number_from_code(code, convert):\n",
    "    for key in convert:\n",
    "        code = code.replace(key, convert[key])\n",
    "    return int(code, 2)"
   ]
  },
  {
   "cell_type": "code",
   "execution_count": 12,
   "metadata": {},
   "outputs": [
    {
     "name": "stdout",
     "output_type": "stream",
     "text": [
      "The highest seat ID is 883.\n",
      "Part b already solved with same answer: 532\n",
      "My seat ID is 532.\n"
     ]
    }
   ],
   "source": [
    "p = Puzzle(year=2020, day=5)\n",
    "tickets = p.input_data.split('\\n')\n",
    "\n",
    "# part a\n",
    "max_id = 0\n",
    "list_ids = []\n",
    "for ticket in tickets:\n",
    "    r = number_from_code(ticket[:7], {'F': '0', 'B': '1'})\n",
    "    c = number_from_code(ticket[7:], {'L': '0', 'R': '1'})\n",
    "    i = r * 8 + c\n",
    "    list_ids.append(i)\n",
    "    max_id = max(max_id, i)\n",
    "\n",
    "p.answer_a = max_id\n",
    "print('The highest seat ID is %d.' % max_id)\n",
    "\n",
    "# part b\n",
    "list_ids = np.array(sorted(list_ids), dtype='int')\n",
    "jump_in_ids = int(np.where(np.diff(list_ids)>1)[0])\n",
    "\n",
    "my_seat = list_ids[jump_in_ids]+1\n",
    "p.answer_b = my_seat\n",
    "print('My seat ID is %d.' % my_seat)"
   ]
  },
  {
   "cell_type": "markdown",
   "metadata": {},
   "source": [
    "# Day 6"
   ]
  },
  {
   "cell_type": "code",
   "execution_count": 13,
   "metadata": {},
   "outputs": [
    {
     "name": "stdout",
     "output_type": "stream",
     "text": [
      "The sum is 6387.\n"
     ]
    }
   ],
   "source": [
    "p = Puzzle(year=2020, day=6)\n",
    "data = p.input_data.split('\\n')\n",
    "\n",
    "group = set()\n",
    "c = []\n",
    "for line in data:\n",
    "    if line != '':\n",
    "        # parse new person\n",
    "        for char in line:\n",
    "            group.add(char)\n",
    "    else:\n",
    "        # count previous group\n",
    "        c.append(len(group))\n",
    "        group = set()\n",
    "else:\n",
    "    c.append(len(group))\n",
    "    \n",
    "p.answer_a = sum(c)\n",
    "print('The sum is %d.' % np.sum(c))"
   ]
  },
  {
   "cell_type": "code",
   "execution_count": 14,
   "metadata": {},
   "outputs": [
    {
     "name": "stdout",
     "output_type": "stream",
     "text": [
      "The updated sum is 3039.\n"
     ]
    }
   ],
   "source": [
    "c = []\n",
    "group = {'a','b','c','d','e','f','g','h','i','j','k','l','m','n','o','p','q','r','s','t','u','v','w','x','y','z'}\n",
    "person = set()\n",
    "for line in data:        \n",
    "    if line != '':\n",
    "        # parse new person\n",
    "        for char in line:\n",
    "            person.add(char)\n",
    "\n",
    "        # intersect with group\n",
    "        group = group.intersection(person)\n",
    "        \n",
    "        # reset person\n",
    "        person = set()\n",
    "    else:\n",
    "        # count previous group\n",
    "        c.append(len(group))\n",
    "        group = {'a','b','c','d','e','f','g','h','i','j','k','l','m','n','o','p','q','r','s','t','u','v','w','x','y','z'}  \n",
    "        \n",
    "else:\n",
    "    # last group\n",
    "    c.append(len(group))\n",
    "    \n",
    "p.answer_b = sum(c)\n",
    "print('The updated sum is %d.' % np.sum(c))"
   ]
  },
  {
   "cell_type": "markdown",
   "metadata": {},
   "source": [
    "# Day 7"
   ]
  },
  {
   "cell_type": "code",
   "execution_count": 15,
   "metadata": {},
   "outputs": [
    {
     "name": "stdout",
     "output_type": "stream",
     "text": [
      "Shiny bags can be carried in 139 different bags.\n",
      "There are 58175 bags in a shiny gold bag.\n"
     ]
    }
   ],
   "source": [
    "# return current bag and dictionnary with content\n",
    "def parse_line(line):\n",
    "    end_of_color = line.find(' bags contain')\n",
    "    bag_parent = line[:end_of_color]\n",
    "    bags = line[end_of_color+14:-1].split(', ')\n",
    "    \n",
    "    bag_content = {}\n",
    "    if bags != ['no other bags']:\n",
    "        # what's inside\n",
    "        for bag in bags:\n",
    "            amount = int(bag[0])\n",
    "            bag_type = bag[2:-4] if amount == 1 else bag[2:-5]                \n",
    "            bag_content[bag_type] = amount\n",
    "    \n",
    "    return bag_parent, bag_content\n",
    "\n",
    "# find bags that can contain a bag of a certain color\n",
    "def search_bag(data, color):\n",
    "    found_in = []\n",
    "    for line in data:\n",
    "        bag_parent, bag_content = parse_line(line)\n",
    "        \n",
    "        if color in bag_content:\n",
    "            found_in.append(bag_parent)\n",
    "            # now we also search for the parent bag\n",
    "            found_in.extend(search_bag(data, bag_parent))\n",
    "    return found_in\n",
    "\n",
    "# count bags inside a bag of a specific color\n",
    "def count_bag_in(data, color):\n",
    "    bags_in = []\n",
    "    for line in data:\n",
    "        bag_parent, bag_content = parse_line(line)\n",
    "        \n",
    "        if bag_parent == color:\n",
    "            # get bags inside\n",
    "            for bag in bag_content:\n",
    "                bags_in.append(bag_content[bag])\n",
    "                # recursive search multiplied by the amount of bag of that color\n",
    "                bags_in.extend(bag_content[bag] * count_bag_in(data, bag))\n",
    "    return bags_in\n",
    "\n",
    "p = Puzzle(year=2020, day=7)\n",
    "data = p.input_data.split('\\n')\n",
    "p.answer_a = len(set(search_bag(data, 'shiny gold')))\n",
    "print('Shiny bags can be carried in %s different bags.' % p.answer_a)\n",
    "\n",
    "p.answer_b = sum(count_bag_in(data, 'shiny gold'))\n",
    "print('There are %s bags in a shiny gold bag.' % p.answer_b)"
   ]
  },
  {
   "cell_type": "markdown",
   "metadata": {},
   "source": [
    "# Day 8"
   ]
  },
  {
   "cell_type": "code",
   "execution_count": 16,
   "metadata": {},
   "outputs": [],
   "source": [
    "def get_parse(line):\n",
    "    ins = line[:3]\n",
    "    val = int(line[4:])\n",
    "    return ins, val\n",
    "\n",
    "class GameConsole():\n",
    "    def __init__(self):\n",
    "        self.acc = 0\n",
    "        self.reg = 0\n",
    "    \n",
    "    def restart(self):\n",
    "        self.acc = 0\n",
    "        self.reg = 0\n",
    "    \n",
    "    def run(self, data):\n",
    "        executed = set()\n",
    "        \n",
    "        while self.reg < len(data):\n",
    "            # return on infinite loop\n",
    "            if self.reg in executed:\n",
    "                return False\n",
    "            \n",
    "            op, val = get_parse(data[self.reg])\n",
    "            executed.add(self.reg)\n",
    "            if op == 'nop':\n",
    "                pass\n",
    "            elif op == 'acc':\n",
    "                self.acc += val\n",
    "            elif op == 'jmp':\n",
    "                self.reg += val\n",
    "                continue\n",
    "            self.reg += 1\n",
    "        \n",
    "        return True\n",
    "\n",
    "# find error in program change any \n",
    "# 'jmp' to 'nop' or 'nop' to 'jmp'\n",
    "# and run the code to see if it works\n",
    "def find_error(g, data):\n",
    "    g.restart()\n",
    "    for i in range(0, len(data)):\n",
    "        copy_data = data.copy()\n",
    "        op, val = get_parse(data[i])\n",
    "        \n",
    "        if op == 'acc':  # no bug in acc\n",
    "            continue\n",
    "        elif op == 'jmp':\n",
    "            copy_data[i] = 'nop %d' % val\n",
    "        elif op == 'nop':\n",
    "            copy_data[i] = 'jmp %d' % val\n",
    "        \n",
    "        # run and test if not infinite loop\n",
    "        if g.run(copy_data):\n",
    "            break\n",
    "        else:\n",
    "            g.restart()\n",
    "    \n",
    "    return g.acc"
   ]
  },
  {
   "cell_type": "code",
   "execution_count": 17,
   "metadata": {},
   "outputs": [],
   "source": [
    "# test\n",
    "t = '''nop +0\n",
    "acc +1\n",
    "jmp +4\n",
    "acc +3\n",
    "jmp -3\n",
    "acc -99\n",
    "acc +1\n",
    "jmp -4\n",
    "acc +6'''.split('\\n')\n",
    "\n",
    "g = GameConsole()\n",
    "g.run(t)\n",
    "assert g.acc == 5\n",
    "assert find_error(g, t) == 8\n",
    "\n",
    "p = Puzzle(year=2020, day=8)\n",
    "data = p.input_data.split('\\n')\n",
    "\n",
    "# part a\n",
    "g.restart()\n",
    "g.run(data)\n",
    "p.answer_a = g.acc\n",
    "\n",
    "# part b\n",
    "p.answer_b = find_error(g, data)"
   ]
  },
  {
   "cell_type": "markdown",
   "metadata": {},
   "source": [
    "# Day 9"
   ]
  },
  {
   "cell_type": "code",
   "execution_count": 202,
   "metadata": {},
   "outputs": [],
   "source": [
    "def validate_numbers(data, prev):\n",
    "    for i in range(prev, len(data)):\n",
    "        preamble = data[i-s:i]\n",
    "        number = data[i]\n",
    "        found = False\n",
    "        for j, n1 in enumerate(preamble):\n",
    "            n2 = number - n1\n",
    "            if n2 in preamble[j:]:\n",
    "                found = True\n",
    "        if not found:\n",
    "            return number\n",
    "    return None\n",
    "\n",
    "def find_encryption(data, number):\n",
    "    l = 3\n",
    "    while l<len(data):\n",
    "        for i in range(0, len(data)-l+1):\n",
    "            if number == sum(data[i:i+l]):\n",
    "                return min(data[i:i+l])+max(data[i:i+l])\n",
    "        l += 1\n",
    "    return None"
   ]
  },
  {
   "cell_type": "code",
   "execution_count": 203,
   "metadata": {},
   "outputs": [],
   "source": [
    "# tests\n",
    "t = [35, 20, 15, 25, 47, 40, 62, 55, 65, 95, 102, \\\n",
    "     117, 150, 182, 127, 219, 299, 277, 309, 576]\n",
    "\n",
    "assert validate_numbers(t, 5) == 127\n",
    "assert find_encryption(t, 127) == 62\n",
    "\n",
    "p = Puzzle(year=2020, day=9)\n",
    "data = list(map(int, p.input_data.split('\\n')))\n",
    "p.answer_a = validate_numbers(data, 25)\n",
    "p.answer_b = find_encryption(data, int(p.answer_a))"
   ]
  },
  {
   "cell_type": "markdown",
   "metadata": {},
   "source": [
    "# Day 10"
   ]
  },
  {
   "cell_type": "markdown",
   "metadata": {},
   "source": [
    "1. (0), 1, 4, 5, 6, 7, 10, 11, 12, 15, 16, 19, (22)\n",
    "2. (0), 1, 4, 5, 6, 7, 10, 12, 15, 16, 19, (22)\n",
    "3. (0), 1, 4, 5, 7, 10, 11, 12, 15, 16, 19, (22)\n",
    "4. (0), 1, 4, 5, 7, 10, 12, 15, 16, 19, (22)\n",
    "5. (0), 1, 4, 6, 7, 10, 11, 12, 15, 16, 19, (22)\n",
    "6. (0), 1, 4, 6, 7, 10, 12, 15, 16, 19, (22)\n",
    "7. (0), 1, 4, 7, 10, 11, 12, 15, 16, 19, (22)\n",
    "8. (0), 1, 4, 7, 10, 12, 15, 16, 19, (22)\n",
    "\n",
    "From the bottom list:\n",
    "5-6-11 are not mandatory\n",
    "\n",
    "so we have:\n",
    "    - 5-6-11 (1)\n",
    "    - 5-6 (2)\n",
    "    - 5-11 (3)\n",
    "    - Only 5 (4)\n",
    "    - 6-11 (5)\n",
    "    - Only 6 (6)\n",
    "    - Only 11 (7)\n",
    "    - None of them (8)"
   ]
  },
  {
   "cell_type": "code",
   "execution_count": 334,
   "metadata": {},
   "outputs": [],
   "source": [
    "def count_possibilities(n):\n",
    "    c = 0\n",
    "    for r in range(0, n+1):\n",
    "        c += np.math.factorial(n)/(np.math.factorial(r) * np.math.factorial(n-r))\n",
    "    return int(c)"
   ]
  },
  {
   "cell_type": "code",
   "execution_count": 393,
   "metadata": {},
   "outputs": [],
   "source": [
    "def jump_jolts(adap):\n",
    "    return np.bincount(np.diff(adap))"
   ]
  },
  {
   "cell_type": "code",
   "execution_count": 394,
   "metadata": {},
   "outputs": [],
   "source": [
    "def optional_numbers(data):\n",
    "    c = 0\n",
    "    dt = np.diff(data)\n",
    "    for i in range(len(dt)-3, 0, -1):\n",
    "        if np.all(dt[i:i+3] == 1):\n",
    "            r1 = data[i+1]\n",
    "            r2 = data[i+2]\n",
    "            data.remove(r1)\n",
    "            data.remove(r2)\n",
    "            c += 2\n",
    "\n",
    "    dt = np.diff(data)\n",
    "    for i in range(len(dt)-2, 0, -1):\n",
    "        if np.all(dt[i:i+2] == 1):\n",
    "            data.remove(data[i+1])\n",
    "            c += 1\n",
    "    return c"
   ]
  },
  {
   "cell_type": "code",
   "execution_count": 390,
   "metadata": {},
   "outputs": [
    {
     "data": {
      "text/plain": [
       "1"
      ]
     },
     "execution_count": 390,
     "metadata": {},
     "output_type": "execute_result"
    }
   ],
   "source": [
    "count_possibilities(optional_numbers(t2))"
   ]
  },
  {
   "cell_type": "code",
   "execution_count": 388,
   "metadata": {},
   "outputs": [
    {
     "data": {
      "text/plain": [
       "18014398509481984"
      ]
     },
     "execution_count": 388,
     "metadata": {},
     "output_type": "execute_result"
    }
   ],
   "source": [
    "count_possibilities(optional_numbers(sorted(data)))"
   ]
  },
  {
   "cell_type": "code",
   "execution_count": 319,
   "metadata": {},
   "outputs": [
    {
     "data": {
      "text/plain": [
       "[0, 1, 4, 6, 10, 11, 12, 15, 16, 19, 22]"
      ]
     },
     "execution_count": 319,
     "metadata": {},
     "output_type": "execute_result"
    }
   ],
   "source": [
    "t"
   ]
  },
  {
   "cell_type": "code",
   "execution_count": 302,
   "metadata": {},
   "outputs": [
    {
     "data": {
      "text/plain": [
       "array([5, 5, 3, 5, 5, 5, 5, 5, 7, 7])"
      ]
     },
     "execution_count": 302,
     "metadata": {},
     "output_type": "execute_result"
    }
   ],
   "source": [
    "np.convolve(np.diff(t), [1, 1, 1], 'valid')"
   ]
  },
  {
   "cell_type": "code",
   "execution_count": 300,
   "metadata": {},
   "outputs": [
    {
     "data": {
      "text/plain": [
       "array([3, 5])"
      ]
     },
     "execution_count": 300,
     "metadata": {},
     "output_type": "execute_result"
    }
   ],
   "source": [
    "np.convolve([1,2,3],[1, 1], 'valid')"
   ]
  },
  {
   "cell_type": "code",
   "execution_count": null,
   "metadata": {},
   "outputs": [],
   "source": [
    "def count_possibility(adap):\n",
    "    adap.extend([0, max(adap)+3]) # add outlet and device\n",
    "    adap = sorted(adap)\n",
    "    \n",
    "    "
   ]
  },
  {
   "cell_type": "code",
   "execution_count": 409,
   "metadata": {},
   "outputs": [
    {
     "name": "stdout",
     "output_type": "stream",
     "text": [
      "131072\n"
     ]
    },
    {
     "ename": "AssertionError",
     "evalue": "",
     "output_type": "error",
     "traceback": [
      "\u001b[0;31m---------------------------------------------------------------------------\u001b[0m",
      "\u001b[0;31mAssertionError\u001b[0m                            Traceback (most recent call last)",
      "\u001b[0;32m<ipython-input-409-ac53de1252c6>\u001b[0m in \u001b[0;36m<module>\u001b[0;34m\u001b[0m\n\u001b[1;32m     16\u001b[0m \u001b[0;34m\u001b[0m\u001b[0m\n\u001b[1;32m     17\u001b[0m \u001b[0mprint\u001b[0m\u001b[0;34m(\u001b[0m\u001b[0mcount_possibilities\u001b[0m\u001b[0;34m(\u001b[0m\u001b[0moptional_numbers\u001b[0m\u001b[0;34m(\u001b[0m\u001b[0mt2\u001b[0m\u001b[0;34m)\u001b[0m\u001b[0;34m)\u001b[0m\u001b[0;34m)\u001b[0m\u001b[0;34m\u001b[0m\u001b[0;34m\u001b[0m\u001b[0m\n\u001b[0;32m---> 18\u001b[0;31m \u001b[0;32massert\u001b[0m \u001b[0mcount_possibilities\u001b[0m\u001b[0;34m(\u001b[0m\u001b[0moptional_numbers\u001b[0m\u001b[0;34m(\u001b[0m\u001b[0mt2\u001b[0m\u001b[0;34m)\u001b[0m\u001b[0;34m)\u001b[0m \u001b[0;34m==\u001b[0m \u001b[0;36m19208\u001b[0m\u001b[0;34m\u001b[0m\u001b[0;34m\u001b[0m\u001b[0m\n\u001b[0m",
      "\u001b[0;31mAssertionError\u001b[0m: "
     ]
    }
   ],
   "source": [
    "t = [16, 10, 15, 5, 1, 11, 7, 19, 6, 12, 4]\n",
    "t.extend([0, max(t)+3]) # add outlet and device\n",
    "t = sorted(t)\n",
    "c = jump_jolts(t)\n",
    "assert c[1] == 7 and c[3] == 5\n",
    "\n",
    "t2 = [28, 33, 18, 42, 31, 14, 46, 20, 48, 47, 24, 23, 49, 45, 19, \\\n",
    "      38, 39, 11, 1, 32, 25, 35, 8, 17, 7, 9, 4, 2, 34, 10, 3]\n",
    "t2.extend([0, max(t2)+3]) # add outlet and device\n",
    "t2 = sorted(t2)\n",
    "c = jump_jolts(t2)\n",
    "assert c[1] == 22 and c[3] == 10\n",
    "\n",
    "\n",
    "assert count_possibilities(optional_numbers(t)) == 8\n",
    "\n",
    "print(count_possibilities(optional_numbers(t2)))\n",
    "assert count_possibilities(optional_numbers(t2)) == 19208"
   ]
  },
  {
   "cell_type": "code",
   "execution_count": 403,
   "metadata": {},
   "outputs": [
    {
     "data": {
      "text/plain": [
       "17"
      ]
     },
     "execution_count": 403,
     "metadata": {},
     "output_type": "execute_result"
    }
   ],
   "source": [
    "t2 = [28, 33, 18, 42, 31, 14, 46, 20, 48, 47, 24, 23, 49, 45, 19, \\\n",
    "      38, 39, 11, 1, 32, 25, 35, 8, 17, 7, 9, 4, 2, 34, 10, 3]\n",
    "t2.extend([0, max(t2)+3]) # add outlet and device\n",
    "t2 = sorted(t2)\n",
    "optional_numbers(t2)"
   ]
  },
  {
   "cell_type": "code",
   "execution_count": 306,
   "metadata": {},
   "outputs": [
    {
     "name": "stdout",
     "output_type": "stream",
     "text": [
      "Part a already solved with same answer: 1848\n"
     ]
    }
   ],
   "source": [
    "p = Puzzle(year=2020, day=10)\n",
    "data = list(map(int, p.input_data.split('\\n')))\n",
    "\n",
    "c = jump_jolts(data)\n",
    "p.answer_a = c[1]*c[3]"
   ]
  },
  {
   "cell_type": "markdown",
   "metadata": {},
   "source": [
    "# Day 11"
   ]
  },
  {
   "cell_type": "code",
   "execution_count": 822,
   "metadata": {},
   "outputs": [],
   "source": [
    "def transform_array(a):\n",
    "    # transform into 2d array\n",
    "    for i in range(0, len(a)):\n",
    "        a[i] = a[i].replace('.', 'nan ')\n",
    "        a[i] = a[i].replace('L', '0 ')\n",
    "        a[i] = a[i].split()\n",
    "    return np.array(a, dtype='float')\n",
    "\n",
    "def get_adjacent_seats(i, j, sph):\n",
    "    adj = -np.ones(8, dtype='int')\n",
    "    for k, (mod_x, mod_y) in enumerate([(-1, -1), (-1, 0), (-1, 1), (0, -1), (0, 1), (1, -1), (1, 0), (1, 1)]):\n",
    "        try:\n",
    "            adj[k] = np.ravel_multi_index([i+mod_x, j+mod_y], sph)\n",
    "        except:\n",
    "            pass\n",
    "    \n",
    "    # return num > -1\n",
    "    return adj[adj>-1]\n",
    "\n",
    "def update_seat(seats):\n",
    "    # floor (nan), empty seat (0), seat (1)\n",
    "    # If a seat is empty (L) and there are no occupied seats adjacent to it, the seat becomes occupied.\n",
    "    # If a seat is occupied (#) and four or more seats adjacent to it are also occupied, the seat becomes empty.\n",
    "    # Otherwise, the seat's state does not change.\n",
    "    nrows = len(seats)\n",
    "    ncols = len(seats[0])\n",
    "    seats_next = np.copy(seats)  # update on a copy to update simultaneously\n",
    "    for i in range(0, nrows):\n",
    "        for j in range(0, ncols):\n",
    "            adj = get_adjacent_seats(i, j, (nrows, ncols))    \n",
    "            adj_status = seats[np.unravel_index(adj, (nrows, ncols))]\n",
    "            \n",
    "            if seats[i, j] == 0 and np.nansum(adj_status) == 0:\n",
    "                seats_next[i, j] = 1\n",
    "            elif seats[i, j] == 1 and np.nansum(adj_status) >= 4:\n",
    "                seats_next[i, j] = 0\n",
    "            else:\n",
    "                pass\n",
    "    return seats_next"
   ]
  },
  {
   "cell_type": "code",
   "execution_count": 836,
   "metadata": {},
   "outputs": [],
   "source": [
    "# tests\n",
    "t =  '''L.LL.LL.LL\n",
    "LLLLLLL.LL\n",
    "L.L.L..L..\n",
    "LLLL.LL.LL\n",
    "L.LL.LL.LL\n",
    "L.LLLLL.LL\n",
    "..L.L.....\n",
    "LLLLLLLLLL\n",
    "L.LLLLLL.L\n",
    "L.LLLLL.LL'''.split('\\n')\n",
    "t = transform_array(t)\n",
    "\n",
    "# any seat is changing\n",
    "seat_id = np.isfinite(t)\n",
    "tp = np.ones_like(t)  # initialize all taken\n",
    "while np.any(tp[seat_id] != t[seat_id]):\n",
    "    tp = np.copy(t)\n",
    "    t = update_seat(tp)\n",
    "\n",
    "assert np.nansum(t) == 37"
   ]
  },
  {
   "cell_type": "code",
   "execution_count": 826,
   "metadata": {},
   "outputs": [
    {
     "name": "stdout",
     "output_type": "stream",
     "text": [
      "CPU times: user 1min 12s, sys: 607 ms, total: 1min 13s\n",
      "Wall time: 1min 13s\n"
     ]
    }
   ],
   "source": [
    "# Takes 1 min! There has to be a better way \n",
    "# than double for loop to update the seats\n",
    "p = Puzzle(year=2020, day=11)\n",
    "seats = p.input_data.split('\\n')\n",
    "seats = transform_array(seats)\n",
    "\n",
    "# any seat is changing\n",
    "seat_id = np.isfinite(seats)\n",
    "seats_prev = np.ones_like(seats)  # initialize all taken\n",
    "while np.any(seats_prev[seat_id] != seats[seat_id]):\n",
    "    seats_prev = np.copy(seats)\n",
    "    seats = update_seat(seats_prev)\n",
    "    \n",
    "p.answer_a = int(np.nansum(seats))"
   ]
  },
  {
   "cell_type": "markdown",
   "metadata": {},
   "source": [
    "# Day 12"
   ]
  },
  {
   "cell_type": "code",
   "execution_count": null,
   "metadata": {},
   "outputs": [],
   "source": []
  },
  {
   "cell_type": "markdown",
   "metadata": {},
   "source": [
    "# Day 13"
   ]
  },
  {
   "cell_type": "code",
   "execution_count": null,
   "metadata": {},
   "outputs": [],
   "source": []
  },
  {
   "cell_type": "markdown",
   "metadata": {},
   "source": [
    "# Day 14"
   ]
  },
  {
   "cell_type": "code",
   "execution_count": null,
   "metadata": {},
   "outputs": [],
   "source": []
  },
  {
   "cell_type": "markdown",
   "metadata": {},
   "source": [
    "# Day 15"
   ]
  },
  {
   "cell_type": "code",
   "execution_count": null,
   "metadata": {},
   "outputs": [],
   "source": []
  },
  {
   "cell_type": "markdown",
   "metadata": {},
   "source": [
    "# Day 15"
   ]
  },
  {
   "cell_type": "code",
   "execution_count": null,
   "metadata": {},
   "outputs": [],
   "source": []
  },
  {
   "cell_type": "markdown",
   "metadata": {},
   "source": [
    "# Day 16"
   ]
  },
  {
   "cell_type": "code",
   "execution_count": null,
   "metadata": {},
   "outputs": [],
   "source": []
  },
  {
   "cell_type": "markdown",
   "metadata": {},
   "source": [
    "# Day 17"
   ]
  },
  {
   "cell_type": "code",
   "execution_count": null,
   "metadata": {},
   "outputs": [],
   "source": []
  },
  {
   "cell_type": "markdown",
   "metadata": {},
   "source": [
    "# Day 18"
   ]
  },
  {
   "cell_type": "code",
   "execution_count": null,
   "metadata": {},
   "outputs": [],
   "source": []
  },
  {
   "cell_type": "markdown",
   "metadata": {},
   "source": [
    "# Day 19"
   ]
  },
  {
   "cell_type": "code",
   "execution_count": null,
   "metadata": {},
   "outputs": [],
   "source": []
  },
  {
   "cell_type": "markdown",
   "metadata": {},
   "source": [
    "# Day 20"
   ]
  },
  {
   "cell_type": "code",
   "execution_count": null,
   "metadata": {},
   "outputs": [],
   "source": []
  },
  {
   "cell_type": "markdown",
   "metadata": {},
   "source": [
    "# Day 21"
   ]
  },
  {
   "cell_type": "code",
   "execution_count": null,
   "metadata": {},
   "outputs": [],
   "source": []
  },
  {
   "cell_type": "markdown",
   "metadata": {},
   "source": [
    "# Day 22"
   ]
  },
  {
   "cell_type": "code",
   "execution_count": null,
   "metadata": {},
   "outputs": [],
   "source": []
  },
  {
   "cell_type": "markdown",
   "metadata": {},
   "source": [
    "# Day 23"
   ]
  },
  {
   "cell_type": "code",
   "execution_count": null,
   "metadata": {},
   "outputs": [],
   "source": []
  },
  {
   "cell_type": "markdown",
   "metadata": {},
   "source": [
    "# Day 24"
   ]
  },
  {
   "cell_type": "code",
   "execution_count": null,
   "metadata": {},
   "outputs": [],
   "source": []
  },
  {
   "cell_type": "markdown",
   "metadata": {},
   "source": [
    "# Day 25"
   ]
  },
  {
   "cell_type": "code",
   "execution_count": null,
   "metadata": {},
   "outputs": [],
   "source": []
  },
  {
   "cell_type": "code",
   "execution_count": null,
   "metadata": {},
   "outputs": [],
   "source": []
  }
 ],
 "metadata": {
  "kernelspec": {
   "display_name": "Python 3 (ipykernel)",
   "language": "python",
   "name": "python3"
  },
  "language_info": {
   "codemirror_mode": {
    "name": "ipython",
    "version": 3
   },
   "file_extension": ".py",
   "mimetype": "text/x-python",
   "name": "python",
   "nbconvert_exporter": "python",
   "pygments_lexer": "ipython3",
   "version": "3.9.7"
  }
 },
 "nbformat": 4,
 "nbformat_minor": 4
}
