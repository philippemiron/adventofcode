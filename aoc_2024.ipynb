{
 "cells": [
  {
   "cell_type": "code",
   "execution_count": 2,
   "id": "cb0f584d",
   "metadata": {},
   "outputs": [],
   "source": [
    "import numpy as np\n",
    "from aocd.models import Puzzle"
   ]
  },
  {
   "cell_type": "markdown",
   "id": "0e9db67a",
   "metadata": {},
   "source": [
    "# Tips\n",
    "\n",
    "## Define the object\n",
    "- `puzzle = Puzzle(year=2017, day=20)` \n",
    "- `Puzzle(2017, 20) at 0x107322978 - Particle Swarm>`\n",
    "- get the input `puzzle.input_data`\n",
    "- submit by setting:\n",
    "  - `puzzle.answer_a = value_a`\n",
    "  - `puzzle.answer_b = value_b`\n",
    "\n",
    "## Transform to list variables on multiple lines: \n",
    " - t = '''asd\n",
    "        asd \n",
    "        asd \n",
    "        asd'''.split('\\n')\n",
    "\n",
    "## Map a string list to integer \n",
    "- `map(int, list)`\n",
    "- `np.array(p.input_data.split('\\n'), dtype='int')`"
   ]
  },
  {
   "cell_type": "markdown",
   "id": "145d78eb",
   "metadata": {},
   "source": [
    "## Day 1"
   ]
  },
  {
   "cell_type": "code",
   "execution_count": 2,
   "id": "7b44ec0a",
   "metadata": {},
   "outputs": [
    {
     "name": "stderr",
     "output_type": "stream",
     "text": [
      "coerced int64 value np.int64(1580061) for 2024/01 to '1580061'\n",
      "coerced int64 value np.int64(23046913) for 2024/01 to '23046913'\n"
     ]
    }
   ],
   "source": [
    "puzzle = Puzzle(year=2024, day=1)\n",
    "\n",
    "\n",
    "def get_distance(a: np.array, b: np.array) -> int:\n",
    "    a.sort()\n",
    "    b.sort()\n",
    "    return np.sum(np.abs(a - b))\n",
    "\n",
    "\n",
    "def get_similarity(a: np.array, b: np.array) -> int:\n",
    "    sim = 0\n",
    "    for el in a:\n",
    "        sim += el * np.sum(b == el)\n",
    "    return sim\n",
    "\n",
    "\n",
    "# tests\n",
    "data = puzzle.examples[0].input_data.split(\"\\n\")\n",
    "data = np.array([list(map(int, line.split())) for line in data])\n",
    "assert get_distance(data[:, 0], data[:, 1]) == 11\n",
    "assert get_similarity(data[:, 0], data[:, 1]) == 31\n",
    "\n",
    "# part a\n",
    "data = puzzle.input_data.split(\"\\n\")\n",
    "data = np.array([list(map(int, line.split())) for line in data])\n",
    "puzzle.answer_a = get_distance(data[:, 0], data[:, 1])\n",
    "\n",
    "# part b\n",
    "puzzle.answer_b = get_similarity(data[:, 0], data[:, 1])"
   ]
  },
  {
   "cell_type": "markdown",
   "id": "7cecea47-b32e-48b6-8479-96c61f888806",
   "metadata": {},
   "source": [
    "# Day 2"
   ]
  },
  {
   "cell_type": "code",
   "execution_count": 3,
   "id": "21d19763",
   "metadata": {},
   "outputs": [],
   "source": [
    "puzzle = Puzzle(year=2024, day=2)\n",
    "\n",
    "test_data = [\n",
    "    list(map(int, l.split())) for l in puzzle.examples[0].input_data.split(\"\\n\")\n",
    "]\n",
    "data = [list(map(int, l.split())) for l in puzzle.input_data.split(\"\\n\")]"
   ]
  },
  {
   "cell_type": "code",
   "execution_count": null,
   "id": "99d0ff18",
   "metadata": {},
   "outputs": [],
   "source": [
    "def possible_bad_level(inc: np.array, dec: np.array, gaps: np.array):\n",
    "    \"\"\"Find the indices that could be removed to make the list safe.\n",
    "\n",
    "    Args:\n",
    "        inc (np.array): boolean where the list is increasing\n",
    "        dec (np.array): boolean where the list is decreasing\n",
    "        gaps (np.array): boolean where the gap are within the [0, 3] limits\n",
    "\n",
    "    Returns:\n",
    "        list: Possible bad levels to try\n",
    "    \"\"\"\n",
    "\n",
    "    inc_ix = np.where(~inc)[0]\n",
    "    dec_ix = np.where(~dec)[0]\n",
    "    gaps_ix = np.where(~gaps)[0]\n",
    "\n",
    "    # we add the index where it occurs and the next\n",
    "    # 9 8 7 4 5 -> increase at index 3 and must remove index 3\n",
    "    # 9 8 7 6 7 -> increase at index 3 but must remove 4\n",
    "    # same ideas is valid for the other conditions\n",
    "    bad_level = set()\n",
    "\n",
    "    # can't fix more than 2 issues for a condition\n",
    "    # there is for sure a way to optimize this better\n",
    "    if len(inc_ix) == 1:\n",
    "        bad_level.update([inc_ix[0], inc_ix[0] + 1])\n",
    "\n",
    "    if len(dec_ix) == 1:\n",
    "        bad_level.update([dec_ix[0], dec_ix[0] + 1])\n",
    "\n",
    "    if len(gaps_ix) and len(gaps_ix) <= 2:\n",
    "        bad_level.update([gaps_ix[0], gaps_ix[0] + 1])\n",
    "\n",
    "    return bad_level\n",
    "\n",
    "\n",
    "def safe_list(data: np.array, part_b=False) -> bool:\n",
    "    \"\"\"Check if the list is safe based on monotonicity and gap jump.\n",
    "\n",
    "    Args:\n",
    "        data (np.array): input list to validate\n",
    "        part_b (bool, optional): Also attempt to validate by removing a single element.\n",
    "            Defaults to False.\n",
    "\n",
    "    Returns:\n",
    "        bool: True if the list is safe otherwise False\n",
    "    \"\"\"\n",
    "    diff = np.diff(data)\n",
    "    inc = diff > 0\n",
    "    dec = diff < 0\n",
    "    safe_gap = (np.abs(diff) >= 0) & (np.abs(diff) <= 3)\n",
    "\n",
    "    if not (all(inc) or all(dec)) or not all(safe_gap):\n",
    "        if part_b and (indices := possible_bad_level(inc, dec, safe_gap)):\n",
    "            return any(safe_list(np.delete(data, ix)) for ix in indices)\n",
    "        return False\n",
    "\n",
    "    return True\n",
    "\n",
    "\n",
    "# test cases\n",
    "assert sum([safe_list(d) for d in test_data]) == 2\n",
    "assert sum([safe_list(d, part_b=True) for d in test_data]) == 4\n",
    "\n",
    "puzzle.answer_a = sum([safe_list(d) for d in data])\n",
    "puzzle.answer_b = sum([safe_list(d, part_b=True) for d in data])"
   ]
  },
  {
   "cell_type": "markdown",
   "id": "6a1a996b",
   "metadata": {},
   "source": [
    "# Day 3"
   ]
  },
  {
   "cell_type": "code",
   "execution_count": 76,
   "id": "90eacaf6",
   "metadata": {},
   "outputs": [],
   "source": [
    "puzzle = Puzzle(year=2024, day=3)\n",
    "\n",
    "example_data = puzzle.examples[0].input_data\n",
    "example_data_b = (\n",
    "    \"xmul(2,4)&mul[3,7]!^don't()_mul(5,5)+mul(32,64](mul(11,8)undo()?mul(8,5))\"\n",
    ")\n",
    "data = puzzle.input_data"
   ]
  },
  {
   "cell_type": "code",
   "execution_count": 77,
   "id": "320778de",
   "metadata": {},
   "outputs": [],
   "source": [
    "def eval_mul(data, part_b=False):\n",
    "    mul = 0\n",
    "    process = True\n",
    "\n",
    "    for i in range(0, len(data)):\n",
    "        next_op = data[i : i + 4]\n",
    "        possible_stop = data[i : i + 7]\n",
    "\n",
    "        if part_b and possible_stop == \"don't()\":\n",
    "            process = False\n",
    "        elif next_op == \"do()\":\n",
    "            process = True\n",
    "        elif process and next_op == \"mul(\":\n",
    "            l = data[i + 4 :].partition(\",\")[0]\n",
    "            r = data[i + 4 + len(l) + 1 :].partition(\")\")[0]\n",
    "\n",
    "            if l.isdigit() and r.isdigit() and \" \" not in l and \" \" not in r:\n",
    "                mul += int(l) * int(r)\n",
    "    return mul\n",
    "\n",
    "\n",
    "# tests\n",
    "assert eval_mul(example_data) == 161\n",
    "assert eval_mul(example_data_b, part_b=True) == 48\n",
    "\n",
    "puzzle.answer_a = eval_mul(data)\n",
    "puzzle.answer_b = eval_mul(data, part_b=True)"
   ]
  },
  {
   "cell_type": "markdown",
   "id": "f08fee5e-bac5-4409-ac84-8a5ef3160fc8",
   "metadata": {},
   "source": [
    "# Day 4"
   ]
  },
  {
   "cell_type": "code",
   "execution_count": null,
   "id": "5941cfd6",
   "metadata": {},
   "outputs": [],
   "source": [
    "puzzle = Puzzle(year=2024, day=4)\n",
    "\n",
    "example_data = puzzle.examples[0].input_data\n",
    "data = puzzle.input_data"
   ]
  },
  {
   "cell_type": "markdown",
   "id": "4cf52d10-b663-4ae6-9643-f0ee4052f041",
   "metadata": {},
   "source": [
    "# Day 5"
   ]
  },
  {
   "cell_type": "markdown",
   "id": "edc0cad1-bfa2-4f09-ae6b-cbc9677fd3ec",
   "metadata": {},
   "source": [
    "# Day 6"
   ]
  },
  {
   "cell_type": "markdown",
   "id": "8728203a-9231-4739-a974-8f9b1ce32353",
   "metadata": {},
   "source": [
    "# Day 7"
   ]
  },
  {
   "cell_type": "markdown",
   "id": "2f6e473e-819e-41e4-af6a-f2bee251f1b3",
   "metadata": {},
   "source": [
    "# Day 8"
   ]
  },
  {
   "cell_type": "markdown",
   "id": "ab964d27-0339-43bb-a52b-30594ccbc408",
   "metadata": {},
   "source": [
    "# Day 9"
   ]
  },
  {
   "cell_type": "markdown",
   "id": "41a4968a-c352-4d73-9c88-221ab376cda8",
   "metadata": {},
   "source": [
    "# Day 10"
   ]
  },
  {
   "cell_type": "markdown",
   "id": "c7a215c6-6de9-4944-b499-5bec9ad2be47",
   "metadata": {},
   "source": [
    "# Day 11"
   ]
  },
  {
   "cell_type": "markdown",
   "id": "4356b2a7-72a2-43b9-b4a9-2b9ae008c4b4",
   "metadata": {},
   "source": [
    "# Day 12"
   ]
  },
  {
   "cell_type": "markdown",
   "id": "304bd2a7-409f-459a-8e90-1bd18784d7aa",
   "metadata": {},
   "source": [
    "# Day 13"
   ]
  },
  {
   "cell_type": "markdown",
   "id": "2d87cda9-81d2-4792-8b34-676091126d5f",
   "metadata": {},
   "source": [
    "# Day 14"
   ]
  },
  {
   "cell_type": "markdown",
   "id": "c02b0860-c06d-4166-9565-89300813ae08",
   "metadata": {},
   "source": [
    "# Day 15"
   ]
  },
  {
   "cell_type": "markdown",
   "id": "06f0cb8d-0599-428a-9359-b928e14ce4e6",
   "metadata": {},
   "source": [
    "# Day 16"
   ]
  },
  {
   "cell_type": "markdown",
   "id": "d1d933f0-eda9-43e7-9226-0e8266d821b5",
   "metadata": {},
   "source": [
    "# Day 17"
   ]
  },
  {
   "cell_type": "markdown",
   "id": "06c12131-6d08-4a8f-aaf7-bf9f8563d0a7",
   "metadata": {},
   "source": [
    "# Day 18"
   ]
  },
  {
   "cell_type": "markdown",
   "id": "30373e80-351b-4449-892d-4f2aab2b5072",
   "metadata": {},
   "source": [
    "# Day 19"
   ]
  },
  {
   "cell_type": "markdown",
   "id": "86433792-d3b9-4b7a-9d51-877c8484c3bb",
   "metadata": {},
   "source": [
    "# Day 20"
   ]
  },
  {
   "cell_type": "markdown",
   "id": "6ba725a7-7b3c-4ac7-a739-b3772ed8dfef",
   "metadata": {},
   "source": [
    "# Day 21"
   ]
  },
  {
   "cell_type": "markdown",
   "id": "6dea87a2-c0a1-4781-8e5a-12201306e4ce",
   "metadata": {},
   "source": [
    "# Day 22"
   ]
  },
  {
   "cell_type": "markdown",
   "id": "f003fa2a-2053-43cf-b175-d4ac536fbb7c",
   "metadata": {},
   "source": [
    "# Day 23"
   ]
  },
  {
   "cell_type": "markdown",
   "id": "db7b4045-eae7-4ff0-8d59-3564a9a534f1",
   "metadata": {},
   "source": [
    "# Day 24"
   ]
  },
  {
   "cell_type": "markdown",
   "id": "0d7874a0-1474-4b87-87ce-4fc0a3de1a4c",
   "metadata": {},
   "source": [
    "# Day 25"
   ]
  }
 ],
 "metadata": {
  "kernelspec": {
   "display_name": ".venv",
   "language": "python",
   "name": "python3"
  },
  "language_info": {
   "codemirror_mode": {
    "name": "ipython",
    "version": 3
   },
   "file_extension": ".py",
   "mimetype": "text/x-python",
   "name": "python",
   "nbconvert_exporter": "python",
   "pygments_lexer": "ipython3",
   "version": "3.13.0"
  }
 },
 "nbformat": 4,
 "nbformat_minor": 5
}
