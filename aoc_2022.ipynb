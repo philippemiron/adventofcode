{
 "cells": [
  {
   "cell_type": "code",
   "execution_count": 4,
   "id": "cb0f584d",
   "metadata": {},
   "outputs": [],
   "source": [
    "import numpy as np\n",
    "from aocd.models import Puzzle"
   ]
  },
  {
   "cell_type": "markdown",
   "id": "0e9db67a",
   "metadata": {},
   "source": [
    "# Tips\n",
    "\n",
    "## Define the object\n",
    "- `puzzle = Puzzle(year=2017, day=20)` \n",
    "- `Puzzle(2017, 20) at 0x107322978 - Particle Swarm>`\n",
    "- get the input `puzzle.input_data`\n",
    "- subbit by setting:\n",
    "  - `puzzle.answer_a = value_a`\n",
    "  - `puzzle.answer_b = value_b`\n",
    "\n",
    "## Transform to list variables on multiple lines: \n",
    " - t = '''asd\n",
    "        asd \n",
    "        asd \n",
    "        asd'''.split('\\n')\n",
    "\n",
    "## Map a string list to integer \n",
    "- `map(int, list)`\n",
    "- `np.array(p.input_data.split('\\n'), dtype='int')`"
   ]
  },
  {
   "cell_type": "markdown",
   "id": "145d78eb",
   "metadata": {},
   "source": [
    "## Day 1"
   ]
  },
  {
   "cell_type": "code",
   "execution_count": 6,
   "id": "9bac0b34",
   "metadata": {},
   "outputs": [],
   "source": [
    "puzzle = Puzzle(year=2022, day=1)\n",
    "\n",
    "calories = puzzle.input_data.split('\\n')\n",
    "\n",
    "sum_calories = []\n",
    "current_count = 0\n",
    "for c in calories:\n",
    "    if c != '':\n",
    "        current_count += int(c)\n",
    "    else:\n",
    "        sum_calories.append(current_count)\n",
    "        current_count = 0"
   ]
  },
  {
   "cell_type": "code",
   "execution_count": 7,
   "id": "183ff5f6",
   "metadata": {},
   "outputs": [],
   "source": [
    "puzzle.answer_a = max(sum_calories)"
   ]
  },
  {
   "cell_type": "code",
   "execution_count": 8,
   "id": "9077a1d0",
   "metadata": {},
   "outputs": [
    {
     "name": "stdout",
     "output_type": "stream",
     "text": [
      "Part b already solved with same answer: 199628\n"
     ]
    }
   ],
   "source": [
    "# sum of the top 3\n",
    "puzzle.answer_b = np.sum(np.sort(sum_calories)[-3:])"
   ]
  },
  {
   "cell_type": "markdown",
   "id": "33bc23f9",
   "metadata": {},
   "source": [
    "# Day 2\n",
    "\n",
    "This solution could be much more elequent but it is slighly boring and I don't want to redo it haha."
   ]
  },
  {
   "cell_type": "code",
   "execution_count": 22,
   "id": "b3001ba1",
   "metadata": {},
   "outputs": [],
   "source": [
    "outcome = {\n",
    "    (\"A X\"): 3, \n",
    "    (\"A Y\"): 6,\n",
    "    (\"A Z\"): 0,\n",
    "    (\"B X\"): 0, \n",
    "    (\"B Y\"): 3,\n",
    "    (\"B Z\"): 6,\n",
    "    (\"C X\"): 6, \n",
    "    (\"C Y\"): 0,\n",
    "    (\"C Z\"): 3,        \n",
    "}\n",
    "\n",
    "selected = {\n",
    "    \"X\": 1,\n",
    "    \"Y\": 2,\n",
    "    \"Z\": 3,\n",
    "}"
   ]
  },
  {
   "cell_type": "code",
   "execution_count": 16,
   "id": "f8b9e580",
   "metadata": {},
   "outputs": [],
   "source": [
    "puzzle = Puzzle(year=2022, day=2)"
   ]
  },
  {
   "cell_type": "code",
   "execution_count": 26,
   "id": "adf666c8",
   "metadata": {},
   "outputs": [],
   "source": [
    "data = puzzle.input_data.split('\\n')"
   ]
  },
  {
   "cell_type": "code",
   "execution_count": 27,
   "id": "69de9f73",
   "metadata": {},
   "outputs": [
    {
     "name": "stdout",
     "output_type": "stream",
     "text": [
      "\u001b[32mThat's the right answer!  You are one gold star closer to collecting enough star fruit. [Continue to Part Two]\u001b[0m\n"
     ]
    }
   ],
   "source": [
    "score = 0\n",
    "for d in data:\n",
    "    player = d[-1:]\n",
    "    score += outcome[d] + selected[player]\n",
    "    \n",
    "puzzle.answer_a = score"
   ]
  },
  {
   "cell_type": "code",
   "execution_count": 31,
   "id": "f1360604",
   "metadata": {},
   "outputs": [],
   "source": [
    "# simply encoded the 9 outcomes again..\n",
    "# first number is shape\n",
    "# second number outcome\n",
    "\n",
    "outcome_p2 = {\n",
    "    (\"A X\"): 3 + 0,  \n",
    "    (\"A Y\"): 1 + 3,\n",
    "    (\"A Z\"): 2 + 6,\n",
    "    (\"B X\"): 1 + 0, \n",
    "    (\"B Y\"): 2 + 3,\n",
    "    (\"B Z\"): 3 + 6,\n",
    "    (\"C X\"): 2 + 0, \n",
    "    (\"C Y\"): 3 + 3,\n",
    "    (\"C Z\"): 1 + 6,        \n",
    "}\n",
    "\n",
    "score = 0\n",
    "for d in data:\n",
    "    score += outcome_p2[d]\n",
    "    \n",
    "puzzle.answer_b = score"
   ]
  },
  {
   "cell_type": "markdown",
   "id": "be3023fe",
   "metadata": {},
   "source": [
    "# Day 3"
   ]
  },
  {
   "cell_type": "code",
   "execution_count": 78,
   "id": "38ebc2d2",
   "metadata": {},
   "outputs": [],
   "source": [
    "p = Puzzle(year=2022, day=3)\n",
    "data = p.input_data.split('\\n')\n",
    "\n",
    "# reference letters list for score\n",
    "import string\n",
    "letters = list(string.ascii_letters)"
   ]
  },
  {
   "cell_type": "code",
   "execution_count": 59,
   "id": "bd528e0f",
   "metadata": {},
   "outputs": [
    {
     "name": "stdout",
     "output_type": "stream",
     "text": [
      "\u001b[32mThat's the right answer!  You are one gold star closer to collecting enough star fruit. [Continue to Part Two]\u001b[0m\n"
     ]
    }
   ],
   "source": [
    "count = 0\n",
    "for d in data:\n",
    "    \n",
    "    # split into two compartments\n",
    "    mid = int(len(d)/2)\n",
    "    c1 = d[:mid]\n",
    "    c2 = d[mid:]\n",
    "    \n",
    "    # find common item\n",
    "    c3 = np.intersect1d(list(c1), list(c2))\n",
    "\n",
    "    count += np.where(c3 == letters)[0][0] + 1\n",
    "    \n",
    "p.answer_a = count"
   ]
  },
  {
   "cell_type": "code",
   "execution_count": 79,
   "id": "cd5fc908",
   "metadata": {},
   "outputs": [
    {
     "name": "stdout",
     "output_type": "stream",
     "text": [
      "\u001b[32mThat's the right answer!  You are one gold star closer to collecting enough star fruit.You have completed Day 3! You can [Shareon\n",
      "  Twitter\n",
      "Mastodon] this victory or [Return to Your Advent Calendar].\u001b[0m\n"
     ]
    }
   ],
   "source": [
    "count = 0\n",
    "for i in range(0, len(data), 3):\n",
    "    # retrieve three groups of item\n",
    "    g1 = data[i]\n",
    "    g2 = data[i+1]\n",
    "    g3 = data[i+2]\n",
    "    \n",
    "    # identify badge -> common character\n",
    "    badge = np.intersect1d(list(g1), np.intersect1d(list(g2), list(g3)))\n",
    "    \n",
    "    count += np.where(badge == letters)[0][0] + 1\n",
    "    \n",
    "p.answer_b = count"
   ]
  },
  {
   "cell_type": "markdown",
   "id": "7521e0b0",
   "metadata": {},
   "source": [
    "# Day 4"
   ]
  },
  {
   "cell_type": "code",
   "execution_count": null,
   "id": "a7db5dbf",
   "metadata": {},
   "outputs": [],
   "source": []
  }
 ],
 "metadata": {
  "kernelspec": {
   "display_name": "Python 3 (ipykernel)",
   "language": "python",
   "name": "python3"
  },
  "language_info": {
   "codemirror_mode": {
    "name": "ipython",
    "version": 3
   },
   "file_extension": ".py",
   "mimetype": "text/x-python",
   "name": "python",
   "nbconvert_exporter": "python",
   "pygments_lexer": "ipython3",
   "version": "3.11.0"
  }
 },
 "nbformat": 4,
 "nbformat_minor": 5
}
