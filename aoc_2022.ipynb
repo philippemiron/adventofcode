{
 "cells": [
  {
   "cell_type": "code",
   "execution_count": 6,
   "id": "cb0f584d",
   "metadata": {},
   "outputs": [],
   "source": [
    "import numpy as np\n",
    "from aocd.models import Puzzle"
   ]
  },
  {
   "cell_type": "markdown",
   "id": "0e9db67a",
   "metadata": {},
   "source": [
    "# Tips\n",
    "\n",
    "## Define the object\n",
    "- `puzzle = Puzzle(year=2017, day=20)` \n",
    "- `Puzzle(2017, 20) at 0x107322978 - Particle Swarm>`\n",
    "- get the input `puzzle.input_data`\n",
    "- subbit by setting:\n",
    "  - `puzzle.answer_a = value_a`\n",
    "  - `puzzle.answer_b = value_b`\n",
    "\n",
    "## Transform to list variables on multiple lines: \n",
    " - t = '''asd\n",
    "        asd \n",
    "        asd \n",
    "        asd'''.split('\\n')\n",
    "\n",
    "## Map a string list to integer \n",
    "- `map(int, list)`\n",
    "- `np.array(p.input_data.split('\\n'), dtype='int')`"
   ]
  },
  {
   "cell_type": "markdown",
   "id": "145d78eb",
   "metadata": {},
   "source": [
    "## Day 1"
   ]
  },
  {
   "cell_type": "code",
   "execution_count": 6,
   "id": "9bac0b34",
   "metadata": {},
   "outputs": [],
   "source": [
    "puzzle = Puzzle(year=2022, day=1)\n",
    "\n",
    "calories = puzzle.input_data.split(\"\\n\")\n",
    "\n",
    "sum_calories = []\n",
    "current_count = 0\n",
    "for c in calories:\n",
    "    if c != \"\":\n",
    "        current_count += int(c)\n",
    "    else:\n",
    "        sum_calories.append(current_count)\n",
    "        current_count = 0"
   ]
  },
  {
   "cell_type": "code",
   "execution_count": 7,
   "id": "183ff5f6",
   "metadata": {},
   "outputs": [],
   "source": [
    "puzzle.answer_a = max(sum_calories)"
   ]
  },
  {
   "cell_type": "code",
   "execution_count": 8,
   "id": "9077a1d0",
   "metadata": {},
   "outputs": [
    {
     "name": "stdout",
     "output_type": "stream",
     "text": [
      "Part b already solved with same answer: 199628\n"
     ]
    }
   ],
   "source": [
    "# sum of the top 3\n",
    "puzzle.answer_b = np.sum(np.sort(sum_calories)[-3:])"
   ]
  },
  {
   "cell_type": "markdown",
   "id": "33bc23f9",
   "metadata": {},
   "source": [
    "# Day 2\n",
    "\n",
    "This solution could be much more elequent but it is slighly boring and I don't want to redo it haha."
   ]
  },
  {
   "cell_type": "code",
   "execution_count": 22,
   "id": "b3001ba1",
   "metadata": {},
   "outputs": [],
   "source": [
    "outcome = {\n",
    "    (\"A X\"): 3,\n",
    "    (\"A Y\"): 6,\n",
    "    (\"A Z\"): 0,\n",
    "    (\"B X\"): 0,\n",
    "    (\"B Y\"): 3,\n",
    "    (\"B Z\"): 6,\n",
    "    (\"C X\"): 6,\n",
    "    (\"C Y\"): 0,\n",
    "    (\"C Z\"): 3,\n",
    "}\n",
    "\n",
    "selected = {\n",
    "    \"X\": 1,\n",
    "    \"Y\": 2,\n",
    "    \"Z\": 3,\n",
    "}"
   ]
  },
  {
   "cell_type": "code",
   "execution_count": 16,
   "id": "f8b9e580",
   "metadata": {},
   "outputs": [],
   "source": [
    "puzzle = Puzzle(year=2022, day=2)"
   ]
  },
  {
   "cell_type": "code",
   "execution_count": 26,
   "id": "adf666c8",
   "metadata": {},
   "outputs": [],
   "source": [
    "data = puzzle.input_data.split(\"\\n\")"
   ]
  },
  {
   "cell_type": "code",
   "execution_count": 27,
   "id": "69de9f73",
   "metadata": {},
   "outputs": [
    {
     "name": "stdout",
     "output_type": "stream",
     "text": [
      "\u001b[32mThat's the right answer!  You are one gold star closer to collecting enough star fruit. [Continue to Part Two]\u001b[0m\n"
     ]
    }
   ],
   "source": [
    "score = 0\n",
    "for d in data:\n",
    "    player = d[-1:]\n",
    "    score += outcome[d] + selected[player]\n",
    "\n",
    "puzzle.answer_a = score"
   ]
  },
  {
   "cell_type": "code",
   "execution_count": 31,
   "id": "f1360604",
   "metadata": {},
   "outputs": [],
   "source": [
    "# simply encoded the 9 outcomes again..\n",
    "# first number is shape\n",
    "# second number outcome\n",
    "\n",
    "outcome_p2 = {\n",
    "    (\"A X\"): 3 + 0,\n",
    "    (\"A Y\"): 1 + 3,\n",
    "    (\"A Z\"): 2 + 6,\n",
    "    (\"B X\"): 1 + 0,\n",
    "    (\"B Y\"): 2 + 3,\n",
    "    (\"B Z\"): 3 + 6,\n",
    "    (\"C X\"): 2 + 0,\n",
    "    (\"C Y\"): 3 + 3,\n",
    "    (\"C Z\"): 1 + 6,\n",
    "}\n",
    "\n",
    "score = 0\n",
    "for d in data:\n",
    "    score += outcome_p2[d]\n",
    "\n",
    "puzzle.answer_b = score"
   ]
  },
  {
   "cell_type": "markdown",
   "id": "be3023fe",
   "metadata": {},
   "source": [
    "# Day 3"
   ]
  },
  {
   "cell_type": "code",
   "execution_count": 78,
   "id": "38ebc2d2",
   "metadata": {},
   "outputs": [],
   "source": [
    "p = Puzzle(year=2022, day=3)\n",
    "data = p.input_data.split(\"\\n\")\n",
    "\n",
    "# reference letters list for score\n",
    "import string\n",
    "\n",
    "letters = list(string.ascii_letters)"
   ]
  },
  {
   "cell_type": "code",
   "execution_count": 59,
   "id": "bd528e0f",
   "metadata": {},
   "outputs": [
    {
     "name": "stdout",
     "output_type": "stream",
     "text": [
      "\u001b[32mThat's the right answer!  You are one gold star closer to collecting enough star fruit. [Continue to Part Two]\u001b[0m\n"
     ]
    }
   ],
   "source": [
    "count = 0\n",
    "for d in data:\n",
    "    # split into two compartments\n",
    "    mid = int(len(d) / 2)\n",
    "    c1 = d[:mid]\n",
    "    c2 = d[mid:]\n",
    "\n",
    "    # find common item\n",
    "    c3 = np.intersect1d(list(c1), list(c2))\n",
    "\n",
    "    count += np.where(c3 == letters)[0][0] + 1\n",
    "\n",
    "p.answer_a = count"
   ]
  },
  {
   "cell_type": "code",
   "execution_count": 79,
   "id": "cd5fc908",
   "metadata": {},
   "outputs": [
    {
     "name": "stdout",
     "output_type": "stream",
     "text": [
      "\u001b[32mThat's the right answer!  You are one gold star closer to collecting enough star fruit.You have completed Day 3! You can [Shareon\n",
      "  Twitter\n",
      "Mastodon] this victory or [Return to Your Advent Calendar].\u001b[0m\n"
     ]
    }
   ],
   "source": [
    "count = 0\n",
    "for i in range(0, len(data), 3):\n",
    "    # retrieve three groups of item\n",
    "    g1 = data[i]\n",
    "    g2 = data[i + 1]\n",
    "    g3 = data[i + 2]\n",
    "\n",
    "    # identify badge -> common character\n",
    "    badge = np.intersect1d(list(g1), np.intersect1d(list(g2), list(g3)))\n",
    "\n",
    "    count += np.where(badge == letters)[0][0] + 1\n",
    "\n",
    "p.answer_b = count"
   ]
  },
  {
   "cell_type": "markdown",
   "id": "7521e0b0",
   "metadata": {},
   "source": [
    "# Day 4"
   ]
  },
  {
   "cell_type": "code",
   "execution_count": 60,
   "id": "a7db5dbf",
   "metadata": {},
   "outputs": [],
   "source": [
    "puzzle = Puzzle(year=2022, day=4)"
   ]
  },
  {
   "cell_type": "code",
   "execution_count": 139,
   "id": "d7f06815-fd27-46f7-8039-7c947ce96c7f",
   "metadata": {},
   "outputs": [],
   "source": [
    "data = [list.split(\",\") for list in puzzle.input_data.split(\"\\n\")]\n",
    "data = np.array([[d.split(\"-\") for d in lines] for lines in data], dtype=\"int\")"
   ]
  },
  {
   "cell_type": "code",
   "execution_count": 160,
   "id": "9c3b7850-2d96-4efc-b555-2023b9bc3fd7",
   "metadata": {},
   "outputs": [],
   "source": [
    "def overlap(d0, d1, fully=False):\n",
    "    r1 = np.arange(d0[0], d0[1] + 1)\n",
    "    r2 = np.arange(d1[0], d1[1] + 1)\n",
    "\n",
    "    all_numbers = np.hstack((r1, r2))\n",
    "    overlap = np.bincount(all_numbers) == 2\n",
    "\n",
    "    if fully:\n",
    "        # full overlap\n",
    "        if np.sum(overlap) == min(len(r1), len(r2)):\n",
    "            return True\n",
    "    else:\n",
    "        if np.any(overlap):\n",
    "            return True\n",
    "    return False"
   ]
  },
  {
   "cell_type": "code",
   "execution_count": 161,
   "id": "885387f8-a978-495e-9340-c167207e12ab",
   "metadata": {},
   "outputs": [
    {
     "name": "stdout",
     "output_type": "stream",
     "text": [
      "498\n",
      "859\n"
     ]
    }
   ],
   "source": [
    "c = 0\n",
    "for d in data:\n",
    "    if overlap(d[0], d[1], fully=True):\n",
    "        c += 1\n",
    "print(c)\n",
    "puzzle.answer_a = c\n",
    "\n",
    "c = 0\n",
    "for d in data:\n",
    "    if overlap(d[0], d[1]):\n",
    "        c += 1\n",
    "print(c)\n",
    "puzzle.answer_b = c"
   ]
  },
  {
   "cell_type": "markdown",
   "id": "191d649a-a04c-426f-bb85-6e692f2b8b96",
   "metadata": {},
   "source": [
    "# Day 5"
   ]
  },
  {
   "cell_type": "code",
   "execution_count": 30,
   "id": "0b71cecb-9183-478c-8bd5-80e47aa6641c",
   "metadata": {},
   "outputs": [],
   "source": [
    "puzzle = Puzzle(year=2022, day=5)"
   ]
  },
  {
   "cell_type": "code",
   "execution_count": 342,
   "id": "d4025144-df6f-4c5b-8245-ec219b47f9ca",
   "metadata": {},
   "outputs": [],
   "source": [
    "# more code to parse...\n",
    "def chunk_string(s, chunk_size=4):\n",
    "    return [s[i : i + chunk_size].strip(\" []\") for i in range(0, len(s), chunk_size)]\n",
    "\n",
    "def move_parse(line):\n",
    "    l = line.split()\n",
    "    return [int(l[1]), int(l[3]) - 1, int(l[5]) - 1]\n",
    "    \n",
    "def parse_puzzle(data_og):\n",
    "    data = []\n",
    "    move = []\n",
    "    for l in data_og:\n",
    "        if l.startswith(\"move\"):\n",
    "            l = move_parse(l)\n",
    "            move.append(l)\n",
    "        else:\n",
    "            l = chunk_string(l)\n",
    "            data.append(l)\n",
    "    return data, move\n",
    "\n",
    "def init_stack(nb_stack, data):\n",
    "    stacks = [[] for i in range(nb_stack)]\n",
    "    for i in range(0, len(data)):\n",
    "        if data[i] == delim:\n",
    "            stacks = [s[::-1] for s in stacks]\n",
    "            break\n",
    "        for i, d in enumerate(data[i]):\n",
    "            if d:\n",
    "                stacks[i].append(d)\n",
    "    return stacks\n",
    "\n",
    "def move_crates(stacks, move):\n",
    "    for m in move:\n",
    "        for i in range(m[0]):\n",
    "            c = \"\"\n",
    "            while c == \"\":\n",
    "                c = stacks[m[1]].pop()\n",
    "            stacks[m[2]].append(c)\n",
    "    return stacks\n",
    "\n",
    "def move_crates_b(stacks, move):\n",
    "    for m in move:\n",
    "        temp_stack = []\n",
    "        # now we get n elements\n",
    "        for i in range(m[0]):\n",
    "            c = \"\"\n",
    "            while c == \"\":\n",
    "                c = stacks[m[1]].pop()\n",
    "            temp_stack.append(c)\n",
    "\n",
    "        # reverse boxes to preserve order\n",
    "        # and append to the other stack\n",
    "        stacks[m[2]].extend(temp_stack[::-1])\n",
    "    return stacks"
   ]
  },
  {
   "cell_type": "code",
   "execution_count": 343,
   "id": "a28a702c-0326-43f2-9d4b-116c49e2c25c",
   "metadata": {},
   "outputs": [],
   "source": [
    "# init\n",
    "data = puzzle.input_data.split(\"\\n\")\n",
    "data, move = parse_puzzle(data)\n",
    "nb_stack = len(data[0])\n",
    "delim = [str(i + 1) for i in np.arange(nb_stack)]\n",
    "\n",
    "# part A\n",
    "stacks = init_stack(nb_stack, data)\n",
    "stacks = move_crates(stacks, move)\n",
    "puzzle.answer_a = \"\".join([s.pop() for s in stacks])\n",
    "\n",
    "# part B\n",
    "stacks2 = init_stack(nb_stack, data)\n",
    "stacks2 = move_crates_b(stacks2, move)\n",
    "puzzle.answer_b = \"\".join([s.pop() for s in stacks2])"
   ]
  },
  {
   "cell_type": "markdown",
   "id": "fcafd57f-74c4-464e-9bbe-04a94c95b0a0",
   "metadata": {},
   "source": [
    "# Day 6"
   ]
  },
  {
   "cell_type": "code",
   "execution_count": null,
   "id": "a0d88805-b270-4040-ae74-2a7b5ddae060",
   "metadata": {},
   "outputs": [],
   "source": []
  }
 ],
 "metadata": {
  "kernelspec": {
   "display_name": "Python 3 (ipykernel)",
   "language": "python",
   "name": "python3"
  },
  "language_info": {
   "codemirror_mode": {
    "name": "ipython",
    "version": 3
   },
   "file_extension": ".py",
   "mimetype": "text/x-python",
   "name": "python",
   "nbconvert_exporter": "python",
   "pygments_lexer": "ipython3",
   "version": "3.11.6"
  }
 },
 "nbformat": 4,
 "nbformat_minor": 5
}
