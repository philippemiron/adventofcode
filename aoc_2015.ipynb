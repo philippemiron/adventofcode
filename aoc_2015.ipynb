{
 "cells": [
  {
   "cell_type": "code",
   "execution_count": 1,
   "id": "375e461c",
   "metadata": {},
   "outputs": [],
   "source": [
    "import numpy as np\n",
    "from aocd.models import Puzzle"
   ]
  },
  {
   "cell_type": "markdown",
   "id": "04f16bc1",
   "metadata": {},
   "source": [
    "# Day 1"
   ]
  },
  {
   "cell_type": "code",
   "execution_count": 5,
   "id": "50d54226",
   "metadata": {},
   "outputs": [],
   "source": [
    "p = Puzzle(2015,1)\n",
    "data = p.input_data"
   ]
  },
  {
   "cell_type": "code",
   "execution_count": 17,
   "id": "e65bcfdf",
   "metadata": {},
   "outputs": [
    {
     "name": "stdout",
     "output_type": "stream",
     "text": [
      "\u001b[32mThat's the right answer!  You are one gold star closer to powering the weather machine.You have completed Day 1! You can [Shareon\n",
      "  Twitter\n",
      "Mastodon] this victory or [Return to Your Advent Calendar].\u001b[0m\n"
     ]
    }
   ],
   "source": [
    "floor = 0\n",
    "basement = None\n",
    "\n",
    "for i, c in enumerate(data):\n",
    "    if c == '(':\n",
    "        floor += 1\n",
    "    elif c == ')':\n",
    "        floor -= 1\n",
    "    else:\n",
    "        print('wrong char')\n",
    "    \n",
    "    if floor == -1 and basement is None:  # only the first time\n",
    "        basement = i + 1\n",
    "\n",
    "p.answer_a = floor\n",
    "p.answer_b = basement"
   ]
  },
  {
   "cell_type": "markdown",
   "id": "de06bf1d",
   "metadata": {},
   "source": [
    "# Day 2"
   ]
  },
  {
   "cell_type": "code",
   "execution_count": 45,
   "id": "c56c1503",
   "metadata": {},
   "outputs": [],
   "source": [
    "p = Puzzle(2015,2)\n",
    "data = '\\n'.join(p.input_data.split('x')).split('\\n')\n",
    "data = np.array(data, dtype='int').reshape(-1,3)"
   ]
  },
  {
   "cell_type": "code",
   "execution_count": 61,
   "id": "60d20b84",
   "metadata": {},
   "outputs": [
    {
     "name": "stdout",
     "output_type": "stream",
     "text": [
      "Part a already solved with same answer: 1598415\n",
      "Part b already solved with same answer: 3812909\n"
     ]
    }
   ],
   "source": [
    "area,ribbon = 0,0\n",
    "for d in data:\n",
    "    l, w, h = d[0], d[1], d[2]\n",
    "    smalest_sides = np.sort(d)[:2]\n",
    "    slack = np.prod(smalest_sides) # smalest side area\n",
    "    area += 2*l*w + 2*w*h + 2*h*l + slack\n",
    "    \n",
    "    bow = np.prod(d) \n",
    "    ribbon += 2*smalest_sides[0] + 2*smalest_sides[1] + bow  # smalest perimeter + bow\n",
    "    \n",
    "p.answer_a = area\n",
    "p.answer_b = ribbon"
   ]
  },
  {
   "cell_type": "markdown",
   "id": "135b9d57",
   "metadata": {},
   "source": [
    "# Day 3"
   ]
  },
  {
   "cell_type": "code",
   "execution_count": 21,
   "id": "29652c8a",
   "metadata": {},
   "outputs": [],
   "source": [
    "p = Puzzle(2015, 3)\n",
    "data = p.input_data"
   ]
  },
  {
   "cell_type": "code",
   "execution_count": 29,
   "id": "97068a93",
   "metadata": {},
   "outputs": [],
   "source": [
    "def sleigh_move(loc):\n",
    "    if d == '^':\n",
    "        loc[0] += 1\n",
    "    elif d == 'v':\n",
    "        loc[0] -= 1\n",
    "    elif d == '>':\n",
    "        loc[1] += 1\n",
    "    elif d == '<':\n",
    "        loc[1] -= 1\n",
    "    return"
   ]
  },
  {
   "cell_type": "code",
   "execution_count": 31,
   "id": "bf7863de",
   "metadata": {},
   "outputs": [
    {
     "data": {
      "text/plain": [
       "2565"
      ]
     },
     "execution_count": 31,
     "metadata": {},
     "output_type": "execute_result"
    }
   ],
   "source": [
    "# dictionnary with key = coordinates (i,j)\n",
    "# and value = number of presents delivered \n",
    "loc = [0,0]\n",
    "houses = {tuple(loc): 1}  # delivered first location\n",
    "\n",
    "# north (^), south (v), east (>), or west (<)\n",
    "for d in data:\n",
    "    sleigh_move(loc)\n",
    "\n",
    "    if tuple(loc) in houses:\n",
    "        houses[tuple(loc)] += 1\n",
    "    else:\n",
    "        houses[tuple(loc)] = 1\n",
    "\n",
    "p.answer_a = len(houses)"
   ]
  },
  {
   "cell_type": "code",
   "execution_count": 34,
   "id": "0f92c82d",
   "metadata": {},
   "outputs": [
    {
     "name": "stdout",
     "output_type": "stream",
     "text": [
      "\u001b[32mThat's the right answer!  You are one gold star closer to powering the weather machine.You have completed Day 3! You can [Shareon\n",
      "  Twitter\n",
      "Mastodon] this victory or [Return to Your Advent Calendar].\u001b[0m\n"
     ]
    }
   ],
   "source": [
    "# dictionnary with key = coordinates (i,j)\n",
    "# and value = number of presents delivered \n",
    "loc_s = [0,0]\n",
    "loc_r = [0,0]\n",
    "houses = {tuple(loc_s): 2}  # delivered first location\n",
    "\n",
    "# north (^), south (v), east (>), or west (<)\n",
    "for i, d in enumerate(data):\n",
    "    \n",
    "    if i % 2 == 0:\n",
    "        sleigh_move(loc_s) # santa move\n",
    "        \n",
    "        if tuple(loc_s) in houses:\n",
    "            houses[tuple(loc_s)] += 1\n",
    "        else:\n",
    "            houses[tuple(loc_s)] = 1\n",
    "    else:\n",
    "        sleigh_move(loc_r) # robo move\n",
    "        \n",
    "        if tuple(loc_r) in houses:\n",
    "            houses[tuple(loc_r)] += 1\n",
    "        else:\n",
    "            houses[tuple(loc_r)] = 1\n",
    "\n",
    "p.answer_b = len(houses)"
   ]
  },
  {
   "cell_type": "markdown",
   "id": "4b82edd9",
   "metadata": {},
   "source": [
    "# Day 4\n",
    "\n",
    "I'm not sure if there is a clever way to not bruteforce this.."
   ]
  },
  {
   "cell_type": "code",
   "execution_count": 40,
   "id": "366c7753",
   "metadata": {},
   "outputs": [],
   "source": [
    "p = Puzzle(2015, 4)\n",
    "data = p.input_data"
   ]
  },
  {
   "cell_type": "code",
   "execution_count": 62,
   "id": "e9f51f5e",
   "metadata": {},
   "outputs": [],
   "source": [
    "from hashlib import md5\n",
    "  \n",
    "c = 1\n",
    "while True:\n",
    "    hash_str = data + str(c)\n",
    "    if md5(f'{data}{c}'.encode()).hexdigest()[:5] == '00000':\n",
    "        break\n",
    "    c += 1\n",
    "    \n",
    "p.answer_a = c\n",
    "\n",
    "c = 1\n",
    "while True:\n",
    "    if md5(f'{data}{c}'.encode()).hexdigest()[:6] == '000000':\n",
    "        break\n",
    "    c += 1\n",
    "    \n",
    "p.answer_b = c"
   ]
  },
  {
   "cell_type": "markdown",
   "id": "1f079ecd",
   "metadata": {},
   "source": [
    "# Day 5"
   ]
  },
  {
   "cell_type": "code",
   "execution_count": 142,
   "id": "150e6ca3",
   "metadata": {},
   "outputs": [],
   "source": [
    "p = Puzzle(2015, 5)\n",
    "data = p.input_data.split('\\n')\n",
    "\n",
    "vowels = list('aeiou')"
   ]
  },
  {
   "cell_type": "code",
   "execution_count": null,
   "id": "a8ce2dc5",
   "metadata": {},
   "outputs": [],
   "source": [
    "nice = 0\n",
    "\n",
    "for d in data:\n",
    "    # 3+ vowels\n",
    "    c1 = sum([1 if l in vowels else 0 for l in d]) >= 3\n",
    "    \n",
    "    # repeated letters in a row\n",
    "    t = [ord(l) for l in d]\n",
    "    c2 = np.any(np.diff(t) == 0)\n",
    "\n",
    "    # do not contains substrings\n",
    "    c3 = True\n",
    "    for substring in ['ab', 'cd', 'pq', 'xy']:\n",
    "        if substring in d:\n",
    "            c3 = False\n",
    "            break\n",
    "\n",
    "    if c1 and c2 and c3:\n",
    "        nice += 1\n",
    "\n",
    "p.answer_a = nice"
   ]
  },
  {
   "cell_type": "code",
   "execution_count": 103,
   "id": "17478046",
   "metadata": {},
   "outputs": [
    {
     "data": {
      "text/plain": [
       "False"
      ]
     },
     "execution_count": 103,
     "metadata": {},
     "output_type": "execute_result"
    }
   ],
   "source": [
    "c1*c2*False"
   ]
  },
  {
   "cell_type": "code",
   "execution_count": 94,
   "id": "db51b251",
   "metadata": {},
   "outputs": [
    {
     "data": {
      "text/plain": [
       "False"
      ]
     },
     "execution_count": 94,
     "metadata": {},
     "output_type": "execute_result"
    }
   ],
   "source": []
  },
  {
   "cell_type": "code",
   "execution_count": 88,
   "id": "52340eec",
   "metadata": {},
   "outputs": [
    {
     "data": {
      "text/plain": [
       "False"
      ]
     },
     "execution_count": 88,
     "metadata": {},
     "output_type": "execute_result"
    }
   ],
   "source": [
    "d in vowels"
   ]
  },
  {
   "cell_type": "code",
   "execution_count": 89,
   "id": "d62cccfe",
   "metadata": {},
   "outputs": [
    {
     "data": {
      "text/plain": [
       "array(['i', 'o', 'u'], dtype='<U1')"
      ]
     },
     "execution_count": 89,
     "metadata": {},
     "output_type": "execute_result"
    }
   ],
   "source": []
  },
  {
   "cell_type": "code",
   "execution_count": 79,
   "id": "b8ee4207",
   "metadata": {},
   "outputs": [
    {
     "data": {
      "text/plain": [
       "[117, 103, 107, 110, 98, 102, 100, 100, 103, 105, 99, 114, 109, 111, 112, 110]"
      ]
     },
     "execution_count": 79,
     "metadata": {},
     "output_type": "execute_result"
    }
   ],
   "source": [
    "t"
   ]
  },
  {
   "cell_type": "code",
   "execution_count": 80,
   "id": "26b26a30",
   "metadata": {},
   "outputs": [
    {
     "data": {
      "text/plain": [
       "array([-14,   4,   3, -12,   4,  -2,   0,   3,   2,  -6,  15,  -5,   2,\n",
       "         1,  -2])"
      ]
     },
     "execution_count": 80,
     "metadata": {},
     "output_type": "execute_result"
    }
   ],
   "source": []
  },
  {
   "cell_type": "code",
   "execution_count": null,
   "id": "52bb1ad9",
   "metadata": {},
   "outputs": [],
   "source": []
  }
 ],
 "metadata": {
  "kernelspec": {
   "display_name": "Python 3 (ipykernel)",
   "language": "python",
   "name": "python3"
  },
  "language_info": {
   "codemirror_mode": {
    "name": "ipython",
    "version": 3
   },
   "file_extension": ".py",
   "mimetype": "text/x-python",
   "name": "python",
   "nbconvert_exporter": "python",
   "pygments_lexer": "ipython3",
   "version": "3.11.0"
  }
 },
 "nbformat": 4,
 "nbformat_minor": 5
}
