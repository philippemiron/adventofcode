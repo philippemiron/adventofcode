{
 "cells": [
  {
   "cell_type": "code",
   "execution_count": 2,
   "id": "375e461c",
   "metadata": {},
   "outputs": [],
   "source": [
    "import numpy as np\n",
    "from aocd.models import Puzzle"
   ]
  },
  {
   "cell_type": "markdown",
   "id": "04f16bc1",
   "metadata": {},
   "source": [
    "# Day 1"
   ]
  },
  {
   "cell_type": "code",
   "execution_count": 5,
   "id": "50d54226",
   "metadata": {},
   "outputs": [],
   "source": [
    "p = Puzzle(2015, 1)\n",
    "data = p.input_data"
   ]
  },
  {
   "cell_type": "code",
   "execution_count": 17,
   "id": "e65bcfdf",
   "metadata": {},
   "outputs": [
    {
     "name": "stdout",
     "output_type": "stream",
     "text": [
      "\u001b[32mThat's the right answer!  You are one gold star closer to powering the weather machine.You have completed Day 1! You can [Shareon\n",
      "  Twitter\n",
      "Mastodon] this victory or [Return to Your Advent Calendar].\u001b[0m\n"
     ]
    }
   ],
   "source": [
    "floor = 0\n",
    "basement = None\n",
    "\n",
    "for i, c in enumerate(data):\n",
    "    if c == \"(\":\n",
    "        floor += 1\n",
    "    elif c == \")\":\n",
    "        floor -= 1\n",
    "    else:\n",
    "        print(\"wrong char\")\n",
    "\n",
    "    if floor == -1 and basement is None:  # only the first time\n",
    "        basement = i + 1\n",
    "\n",
    "p.answer_a = floor\n",
    "p.answer_b = basement"
   ]
  },
  {
   "cell_type": "markdown",
   "id": "de06bf1d",
   "metadata": {},
   "source": [
    "# Day 2"
   ]
  },
  {
   "cell_type": "code",
   "execution_count": 45,
   "id": "c56c1503",
   "metadata": {},
   "outputs": [],
   "source": [
    "p = Puzzle(2015, 2)\n",
    "data = \"\\n\".join(p.input_data.split(\"x\")).split(\"\\n\")\n",
    "data = np.array(data, dtype=\"int\").reshape(-1, 3)"
   ]
  },
  {
   "cell_type": "code",
   "execution_count": 61,
   "id": "60d20b84",
   "metadata": {},
   "outputs": [
    {
     "name": "stdout",
     "output_type": "stream",
     "text": [
      "Part a already solved with same answer: 1598415\n",
      "Part b already solved with same answer: 3812909\n"
     ]
    }
   ],
   "source": [
    "area, ribbon = 0, 0\n",
    "for d in data:\n",
    "    l, w, h = d[0], d[1], d[2]\n",
    "    smalest_sides = np.sort(d)[:2]\n",
    "    slack = np.prod(smalest_sides)  # smalest side area\n",
    "    area += 2 * l * w + 2 * w * h + 2 * h * l + slack\n",
    "\n",
    "    bow = np.prod(d)\n",
    "    ribbon += (\n",
    "        2 * smalest_sides[0] + 2 * smalest_sides[1] + bow\n",
    "    )  # smalest perimeter + bow\n",
    "\n",
    "p.answer_a = area\n",
    "p.answer_b = ribbon"
   ]
  },
  {
   "cell_type": "markdown",
   "id": "135b9d57",
   "metadata": {},
   "source": [
    "# Day 3"
   ]
  },
  {
   "cell_type": "code",
   "execution_count": 21,
   "id": "29652c8a",
   "metadata": {},
   "outputs": [],
   "source": [
    "p = Puzzle(2015, 3)\n",
    "data = p.input_data"
   ]
  },
  {
   "cell_type": "code",
   "execution_count": 29,
   "id": "97068a93",
   "metadata": {},
   "outputs": [],
   "source": [
    "def sleigh_move(loc):\n",
    "    if d == \"^\":\n",
    "        loc[0] += 1\n",
    "    elif d == \"v\":\n",
    "        loc[0] -= 1\n",
    "    elif d == \">\":\n",
    "        loc[1] += 1\n",
    "    elif d == \"<\":\n",
    "        loc[1] -= 1\n",
    "    return"
   ]
  },
  {
   "cell_type": "code",
   "execution_count": 31,
   "id": "bf7863de",
   "metadata": {},
   "outputs": [
    {
     "data": {
      "text/plain": [
       "2565"
      ]
     },
     "execution_count": 31,
     "metadata": {},
     "output_type": "execute_result"
    }
   ],
   "source": [
    "# dictionnary with key = coordinates (i,j)\n",
    "# and value = number of presents delivered\n",
    "loc = [0, 0]\n",
    "houses = {tuple(loc): 1}  # delivered first location\n",
    "\n",
    "# north (^), south (v), east (>), or west (<)\n",
    "for d in data:\n",
    "    sleigh_move(loc)\n",
    "\n",
    "    if tuple(loc) in houses:\n",
    "        houses[tuple(loc)] += 1\n",
    "    else:\n",
    "        houses[tuple(loc)] = 1\n",
    "\n",
    "p.answer_a = len(houses)"
   ]
  },
  {
   "cell_type": "code",
   "execution_count": 34,
   "id": "0f92c82d",
   "metadata": {},
   "outputs": [
    {
     "name": "stdout",
     "output_type": "stream",
     "text": [
      "\u001b[32mThat's the right answer!  You are one gold star closer to powering the weather machine.You have completed Day 3! You can [Shareon\n",
      "  Twitter\n",
      "Mastodon] this victory or [Return to Your Advent Calendar].\u001b[0m\n"
     ]
    }
   ],
   "source": [
    "# dictionnary with key = coordinates (i,j)\n",
    "# and value = number of presents delivered\n",
    "loc_s = [0, 0]\n",
    "loc_r = [0, 0]\n",
    "houses = {tuple(loc_s): 2}  # delivered first location\n",
    "\n",
    "# north (^), south (v), east (>), or west (<)\n",
    "for i, d in enumerate(data):\n",
    "    if i % 2 == 0:\n",
    "        sleigh_move(loc_s)  # santa move\n",
    "\n",
    "        if tuple(loc_s) in houses:\n",
    "            houses[tuple(loc_s)] += 1\n",
    "        else:\n",
    "            houses[tuple(loc_s)] = 1\n",
    "    else:\n",
    "        sleigh_move(loc_r)  # robo move\n",
    "\n",
    "        if tuple(loc_r) in houses:\n",
    "            houses[tuple(loc_r)] += 1\n",
    "        else:\n",
    "            houses[tuple(loc_r)] = 1\n",
    "\n",
    "p.answer_b = len(houses)"
   ]
  },
  {
   "cell_type": "markdown",
   "id": "4b82edd9",
   "metadata": {},
   "source": [
    "# Day 4\n",
    "\n",
    "I'm not sure if there is a clever way to not bruteforce this.."
   ]
  },
  {
   "cell_type": "code",
   "execution_count": 40,
   "id": "366c7753",
   "metadata": {},
   "outputs": [],
   "source": [
    "p = Puzzle(2015, 4)\n",
    "data = p.input_data"
   ]
  },
  {
   "cell_type": "code",
   "execution_count": 62,
   "id": "e9f51f5e",
   "metadata": {},
   "outputs": [],
   "source": [
    "from hashlib import md5\n",
    "\n",
    "c = 1\n",
    "while True:\n",
    "    hash_str = data + str(c)\n",
    "    if md5(f\"{data}{c}\".encode()).hexdigest()[:5] == \"00000\":\n",
    "        break\n",
    "    c += 1\n",
    "\n",
    "p.answer_a = c\n",
    "\n",
    "c = 1\n",
    "while True:\n",
    "    if md5(f\"{data}{c}\".encode()).hexdigest()[:6] == \"000000\":\n",
    "        break\n",
    "    c += 1\n",
    "\n",
    "p.answer_b = c"
   ]
  },
  {
   "cell_type": "markdown",
   "id": "1f079ecd",
   "metadata": {},
   "source": [
    "# Day 5"
   ]
  },
  {
   "cell_type": "code",
   "execution_count": 121,
   "id": "150e6ca3",
   "metadata": {},
   "outputs": [],
   "source": [
    "p = Puzzle(2015, 5)\n",
    "data = p.input_data.split(\"\\n\")\n",
    "\n",
    "vowels = list(\"aeiou\")"
   ]
  },
  {
   "cell_type": "code",
   "execution_count": 82,
   "id": "a8ce2dc5",
   "metadata": {},
   "outputs": [],
   "source": [
    "nice = 0\n",
    "\n",
    "for d in data:\n",
    "    # 3+ vowels\n",
    "    c1 = sum([1 if l in vowels else 0 for l in d]) >= 3\n",
    "\n",
    "    # repeated letters in a row\n",
    "    t = [ord(l) for l in d]\n",
    "    c2 = np.any(np.diff(t) == 0)\n",
    "\n",
    "    # do not contains substrings\n",
    "    c3 = True\n",
    "    for substring in [\"ab\", \"cd\", \"pq\", \"xy\"]:\n",
    "        if substring in d:\n",
    "            c3 = False\n",
    "            break\n",
    "\n",
    "    if c1 and c2 and c3:\n",
    "        nice += 1\n",
    "\n",
    "p.answer_a = nice"
   ]
  },
  {
   "cell_type": "code",
   "execution_count": 219,
   "id": "12f10389-235e-41d4-b40f-a3162fc2b434",
   "metadata": {},
   "outputs": [
    {
     "name": "stdout",
     "output_type": "stream",
     "text": [
      "51\n",
      "\u001b[32mThat's the right answer!  You are one gold star closer to powering the weather machine.You have completed Day 5! You can [Shareon\n",
      "  Twitter\n",
      "Mastodon] this victory or [Return to Your Advent Calendar].\u001b[0m\n"
     ]
    }
   ],
   "source": [
    "nice = 0\n",
    "for d in data:\n",
    "    # pairs of letter repeated\n",
    "    c1 = any(d[i : i + 2] in d[i + 2 :] for i in range(len(d) - 1))\n",
    "\n",
    "    # one letter which repeats with exactly one letter between them\n",
    "    c2 = any(d[i] == d[i + 2] for i in range(len(d) - 2))\n",
    "\n",
    "    if c1 and c2:\n",
    "        nice += 1\n",
    "\n",
    "print(nice)\n",
    "p.answer_b = nice"
   ]
  },
  {
   "cell_type": "markdown",
   "id": "b8911a33-953e-4dac-9e07-50a7b409a770",
   "metadata": {},
   "source": [
    "# Day 6"
   ]
  },
  {
   "cell_type": "code",
   "execution_count": 3,
   "id": "17478046",
   "metadata": {},
   "outputs": [],
   "source": [
    "p = Puzzle(2015, 6)\n",
    "data = p.input_data.split(\"\\n\")"
   ]
  },
  {
   "cell_type": "code",
   "execution_count": 44,
   "id": "46767780-0031-4465-9ac9-2a9a86944d86",
   "metadata": {},
   "outputs": [],
   "source": [
    "def get_corners(i0, i1):\n",
    "    c0 = i0.split(\",\")\n",
    "    c0 = (int(c0[0]), int(c0[1]))\n",
    "    c1 = i1.split(\",\")\n",
    "    c1 = (int(c1[0]), int(c1[1]))\n",
    "    return c0, c1"
   ]
  },
  {
   "cell_type": "code",
   "execution_count": 59,
   "id": "db51b251",
   "metadata": {},
   "outputs": [
    {
     "name": "stderr",
     "output_type": "stream",
     "text": [
      "coerced int64 value 543903 for 2015/06\n"
     ]
    },
    {
     "name": "stdout",
     "output_type": "stream",
     "text": [
      "\u001b[32mThat's the right answer!  You are one gold star closer to powering the weather machine. [Continue to Part Two]\u001b[0m\n"
     ]
    }
   ],
   "source": [
    "lights = np.zeros((1000, 1000), dtype=\"bool\")\n",
    "\n",
    "c = 0\n",
    "for instruction in data:\n",
    "    inst = instruction.split(\" \")\n",
    "    if inst[0] == \"toggle\":\n",
    "        c1, c2 = get_corners(inst[1], inst[3])\n",
    "        area = slice(c1[0], c2[0] + 1), slice(c1[1], c2[1] + 1)\n",
    "        lights[area] = ~lights[area]\n",
    "    elif f\"{inst[0]} {inst[1]}\" == \"turn on\":\n",
    "        c1, c2 = get_corners(inst[2], inst[4])\n",
    "        area = slice(c1[0], c2[0] + 1), slice(c1[1], c2[1] + 1)\n",
    "        lights[area] = True\n",
    "    elif f\"{inst[0]} {inst[1]}\" == \"turn off\":\n",
    "        c1, c2 = get_corners(inst[2], inst[4])\n",
    "        area = slice(c1[0], c2[0] + 1), slice(c1[1], c2[1] + 1)\n",
    "        lights[area] = False\n",
    "    else:\n",
    "        print(\"wrong\")\n",
    "    c += 1\n",
    "\n",
    "np.sum(lights)\n",
    "p.answer_a = int(np.sum(lights))"
   ]
  },
  {
   "cell_type": "code",
   "execution_count": 61,
   "id": "52bb1ad9",
   "metadata": {},
   "outputs": [
    {
     "name": "stdout",
     "output_type": "stream",
     "text": [
      "\u001b[32mThat's the right answer!  You are one gold star closer to powering the weather machine.You have completed Day 6! You can [Shareon\n",
      "  Twitter\n",
      "Mastodon] this victory or [Return to Your Advent Calendar].\u001b[0m\n"
     ]
    }
   ],
   "source": [
    "lights = np.zeros((1000, 1000), dtype=\"int\")\n",
    "\n",
    "c = 0\n",
    "for instruction in data:\n",
    "    inst = instruction.split(\" \")\n",
    "    if inst[0] == \"toggle\":\n",
    "        c1, c2 = get_corners(inst[1], inst[3])\n",
    "        area = slice(c1[0], c2[0] + 1), slice(c1[1], c2[1] + 1)\n",
    "        lights[area] += 2\n",
    "    elif f\"{inst[0]} {inst[1]}\" == \"turn on\":\n",
    "        c1, c2 = get_corners(inst[2], inst[4])\n",
    "        area = slice(c1[0], c2[0] + 1), slice(c1[1], c2[1] + 1)\n",
    "        lights[area] += 1\n",
    "    elif f\"{inst[0]} {inst[1]}\" == \"turn off\":\n",
    "        c1, c2 = get_corners(inst[2], inst[4])\n",
    "        area = slice(c1[0], c2[0] + 1), slice(c1[1], c2[1] + 1)\n",
    "        lights[area] = np.maximum(np.zeros_like(lights[area]), lights[area] - 1)\n",
    "    else:\n",
    "        print(\"wrong\")\n",
    "    c += 1\n",
    "\n",
    "p.answer_b = int(np.sum(lights))"
   ]
  },
  {
   "cell_type": "markdown",
   "id": "37aae6cd-68f8-4cf6-b7c9-d4cca12da207",
   "metadata": {},
   "source": [
    "# Day 7"
   ]
  },
  {
   "cell_type": "code",
   "execution_count": 420,
   "id": "87e6b56c-efa0-41ce-a71f-18868ad9d552",
   "metadata": {},
   "outputs": [],
   "source": [
    "p = Puzzle(2015, 7)\n",
    "data = p.input_data.split(\"\\n\")\n",
    "# data = p.examples[3].input_data.split(\"\\n\")"
   ]
  },
  {
   "cell_type": "code",
   "execution_count": 540,
   "id": "294aaf77-6a26-4bbd-8698-f4ed445a9afc",
   "metadata": {},
   "outputs": [],
   "source": [
    "def initialize(data):\n",
    "    circuit = {}\n",
    "    for instruction in data:\n",
    "        v, k = instruction.split(\" -> \")\n",
    "        circuit[k] = v\n",
    "    return circuit"
   ]
  },
  {
   "cell_type": "code",
   "execution_count": 552,
   "id": "528a49a6-33e8-4129-97a0-fcd8bb99210d",
   "metadata": {},
   "outputs": [
    {
     "name": "stdout",
     "output_type": "stream",
     "text": [
      "3176\n"
     ]
    }
   ],
   "source": [
    "def signal(gate):\n",
    "    # return if simple digit\n",
    "    if gate.isdigit():\n",
    "        return int(gate)\n",
    "\n",
    "    # return if already in memory\n",
    "    if gate in mem:\n",
    "        return mem[gate]\n",
    "\n",
    "    # get instruction\n",
    "    s = circuit[gate]\n",
    "    # print(f\"{s=}\")\n",
    "\n",
    "    # parse recursively\n",
    "    if \"AND\" in s:\n",
    "        g1, g2 = s.split(\" AND \")\n",
    "        mem[gate] = signal(g1) & signal(g2)\n",
    "        return mem[gate]\n",
    "    elif \"OR\" in s:\n",
    "        g1, g2 = s.split(\" OR \")\n",
    "        mem[gate] = signal(g1) | signal(g2)\n",
    "        return mem[gate]\n",
    "    elif \"LSHIFT\" in s:\n",
    "        g, i = s.split(\" LSHIFT \")\n",
    "        mem[gate] = signal(g) << int(i)\n",
    "        return mem[gate]\n",
    "    elif \"RSHIFT\" in s:\n",
    "        g, i = s.split(\" RSHIFT \")\n",
    "        mem[gate] = signal(g) >> int(i)\n",
    "        return mem[gate]\n",
    "    elif \"NOT\" in s:\n",
    "        _, g = s.split(\"NOT \")\n",
    "        mem[gate] = ~signal(g)\n",
    "        return mem[gate]\n",
    "    else:\n",
    "        # direct wire\n",
    "        mem[gate] = signal(s)\n",
    "        return mem[gate]\n",
    "\n",
    "\n",
    "circuit = initialize(data)\n",
    "mem = {}\n",
    "p.answer_a = signal(\"a\")\n",
    "\n",
    "# reset wires\n",
    "circuit = initialize(data)\n",
    "circuit[\"b\"] = p.answer_a  # hardcode b value\n",
    "mem = {}\n",
    "p.answer_b = signal(\"a\")"
   ]
  },
  {
   "cell_type": "markdown",
   "id": "e2753c05-eac8-4c6b-96d6-09598d184ee9",
   "metadata": {
    "scrolled": true
   },
   "source": [
    "# Day 8"
   ]
  },
  {
   "cell_type": "code",
   "execution_count": 765,
   "id": "5d39b08a-b61d-41a0-92b2-6c17fb95b19c",
   "metadata": {},
   "outputs": [],
   "source": [
    "p = Puzzle(2015, 8)\n",
    "data = p.input_data.split(\"\\n\")\n",
    "# data = p.examples[0].input_data.split(\"\\n\")"
   ]
  },
  {
   "cell_type": "code",
   "execution_count": 758,
   "id": "bd313089-7cbf-4796-b329-69a3df8dac58",
   "metadata": {},
   "outputs": [],
   "source": [
    "code = sum([len(x) for x in data])\n",
    "memory = sum([len(x.encode(\"utf-8\").decode(\"unicode-escape\")) - 2 for x in data])"
   ]
  },
  {
   "cell_type": "code",
   "execution_count": 759,
   "id": "33fb8468-e6c0-4f88-9ec2-3102015149c8",
   "metadata": {
    "scrolled": true
   },
   "outputs": [
    {
     "name": "stdout",
     "output_type": "stream",
     "text": [
      "\u001b[32mThat's the right answer!  You are one gold star closer to powering the weather machine. [Continue to Part Two]\u001b[0m\n"
     ]
    }
   ],
   "source": [
    "p.answer_a = code - memory"
   ]
  },
  {
   "cell_type": "code",
   "execution_count": 778,
   "id": "200df3ea-771d-4205-96e9-0e6d7e37ced3",
   "metadata": {},
   "outputs": [],
   "source": [
    "# repr shows the encoded version of the string\n",
    "# we just use regex to change the quotes to \\\"\n",
    "# replace do no work in this situation..\n",
    "import regex\n",
    "\n",
    "encoded = sum([len(regex.sub('\"', '\"\"', repr(x))) for x in data])"
   ]
  },
  {
   "cell_type": "code",
   "execution_count": 780,
   "id": "35e8c296-e843-4614-8bef-47e801732bf2",
   "metadata": {},
   "outputs": [
    {
     "name": "stdout",
     "output_type": "stream",
     "text": [
      "\u001b[32mThat's the right answer!  You are one gold star closer to powering the weather machine.You have completed Day 8! You can [Shareon\n",
      "  Twitter\n",
      "Mastodon] this victory or [Return to Your Advent Calendar].\u001b[0m\n"
     ]
    }
   ],
   "source": [
    "p.answer_b = extended - code"
   ]
  },
  {
   "cell_type": "markdown",
   "id": "06337758-69d5-42fc-9bab-a4bbbff30c26",
   "metadata": {},
   "source": [
    "# Day 9"
   ]
  },
  {
   "cell_type": "code",
   "execution_count": 848,
   "id": "4591d22c-a42e-41a8-9e6d-128ca7929a62",
   "metadata": {},
   "outputs": [],
   "source": [
    "p = Puzzle(2015, 9)\n",
    "# data = p.examples[0].input_data.split(\"\\n\")\n",
    "data = p.input_data.split(\"\\n\")"
   ]
  },
  {
   "cell_type": "code",
   "execution_count": 849,
   "id": "f39e77c8-620f-4373-942a-5cc0f9fe6d67",
   "metadata": {},
   "outputs": [],
   "source": [
    "cities = {}\n",
    "cities_name = []\n",
    "for d in data:\n",
    "    d = d.split()\n",
    "    if d[0] in cities:\n",
    "        cities[d[0]][d[2]] = int(d[4])\n",
    "    else:\n",
    "        cities[d[0]] = {}\n",
    "        cities[d[0]][d[2]] = int(d[4])\n",
    "    cities_name.append(d[0])\n",
    "    cities_name.append(d[2])\n",
    "cities_name = np.unique(cities_name)"
   ]
  },
  {
   "cell_type": "code",
   "execution_count": 853,
   "id": "76b73be1-c144-41e0-b8d6-43f7f587fc73",
   "metadata": {},
   "outputs": [],
   "source": [
    "from itertools import permutations\n",
    "\n",
    "dmin = 9999999999\n",
    "for c in permutations(cities_name):\n",
    "    d = 0\n",
    "    for i in range(0, len(c) - 1):\n",
    "        try:\n",
    "            d += cities[c[i]][c[i + 1]]\n",
    "        except:\n",
    "            d += cities[c[i + 1]][c[i]]\n",
    "    dmin = min(d, dmin)\n",
    "\n",
    "dmax = 0\n",
    "for c in permutations(cities_name):\n",
    "    d = 0\n",
    "    for i in range(0, len(c) - 1):\n",
    "        try:\n",
    "            d += cities[c[i]][c[i + 1]]\n",
    "        except:\n",
    "            d += cities[c[i + 1]][c[i]]\n",
    "    dmax = max(d, dmax)"
   ]
  },
  {
   "cell_type": "code",
   "execution_count": 852,
   "id": "3ba034ba-84f8-4853-8344-d8d2b3392928",
   "metadata": {},
   "outputs": [
    {
     "name": "stdout",
     "output_type": "stream",
     "text": [
      "\u001b[32mThat's the right answer!  You are one gold star closer to powering the weather machine. [Continue to Part Two]\u001b[0m\n"
     ]
    }
   ],
   "source": [
    "p.answer_a = dmin"
   ]
  },
  {
   "cell_type": "code",
   "execution_count": 854,
   "id": "52d281a5-a319-4842-96a4-dc44faa00a19",
   "metadata": {},
   "outputs": [
    {
     "name": "stdout",
     "output_type": "stream",
     "text": [
      "\u001b[32mThat's the right answer!  You are one gold star closer to powering the weather machine.You have completed Day 9! You can [Shareon\n",
      "  Twitter\n",
      "Mastodon] this victory or [Return to Your Advent Calendar].\u001b[0m\n"
     ]
    }
   ],
   "source": [
    "p.answer_b = dmax"
   ]
  },
  {
   "cell_type": "markdown",
   "id": "8ae6bdf9-7d5a-407a-ace7-45e71ebb5354",
   "metadata": {},
   "source": [
    "# Day 10"
   ]
  },
  {
   "cell_type": "code",
   "execution_count": 947,
   "id": "a25faea8-5a78-4e1b-a4a9-18c7cd958c27",
   "metadata": {},
   "outputs": [],
   "source": [
    "from itertools import groupby"
   ]
  },
  {
   "cell_type": "code",
   "execution_count": 956,
   "id": "15dc3c04-5c01-4a0d-8416-a6b92e50e087",
   "metadata": {},
   "outputs": [],
   "source": [
    "p = Puzzle(2015, 10)\n",
    "data = p.input_data"
   ]
  },
  {
   "cell_type": "code",
   "execution_count": 979,
   "id": "b48227b9-41fd-4c81-b923-477b63f18135",
   "metadata": {},
   "outputs": [],
   "source": [
    "# refactor custom for loop using groupby\n",
    "# for k, v in groupby(\"11123\"):\n",
    "#    print(f\"{k} {list(v)}\")\n",
    "# > 1 ['1', '1', '1']\n",
    "# > 2 ['2']\n",
    "# > 3 ['3']\n",
    "def look_and_say(x):\n",
    "    return \"\".join(f\"{str(len(list(v)))}{k}\" for k, v in groupby(x))\n",
    "\n",
    "\n",
    "l = data\n",
    "for _ in range(40):\n",
    "    l = look_and_say(l)\n",
    "p.answer_a = len(l)"
   ]
  },
  {
   "cell_type": "code",
   "execution_count": 981,
   "id": "d81975f6-48cf-4d47-9cca-5b19a94559d1",
   "metadata": {},
   "outputs": [],
   "source": [
    "l = data\n",
    "for _ in range(50):\n",
    "    l = look_and_say(l)\n",
    "p.answer_b = len(l)"
   ]
  },
  {
   "cell_type": "markdown",
   "id": "1a4f2719-c18e-41a1-a5e7-4a8ae97b2fed",
   "metadata": {},
   "source": [
    "# Day 11"
   ]
  },
  {
   "cell_type": "code",
   "execution_count": 1180,
   "id": "c947d13a-8760-48c3-b85f-64069b6e3fdb",
   "metadata": {},
   "outputs": [],
   "source": [
    "p = Puzzle(2015, 11)"
   ]
  },
  {
   "cell_type": "code",
   "execution_count": 1102,
   "id": "5e23d0a2-a872-4dfe-abba-78819af8b644",
   "metadata": {},
   "outputs": [],
   "source": [
    "def get_ascii(text):\n",
    "    ascii = []\n",
    "    for l in text:\n",
    "        ascii.append(ord(l))\n",
    "    return ascii\n",
    "\n",
    "\n",
    "def increment(text, i):\n",
    "    text = list(text)\n",
    "    if text[i] == \"z\":\n",
    "        text[i] = \"a\"\n",
    "        if i == 0:\n",
    "            i = len(text) - 1\n",
    "        else:\n",
    "            i -= 1\n",
    "        return increment(text, i)\n",
    "    else:\n",
    "        text[i] = chr(ord(text[i]) + 1)\n",
    "        return \"\".join(list(text))\n",
    "\n",
    "\n",
    "illegal_letters = [\"i\", \"o\", \"l\"]\n",
    "\n",
    "\n",
    "def has_consecutive_numbers(lst):\n",
    "    for i in range(len(lst) - 2):\n",
    "        if lst[i] + 1 == lst[i + 1] == lst[i + 2] - 1:\n",
    "            return True\n",
    "    return False"
   ]
  },
  {
   "cell_type": "code",
   "execution_count": 1182,
   "id": "db9fc970-448a-4842-8618-bbbf82e52709",
   "metadata": {},
   "outputs": [],
   "source": [
    "def next_password(password):\n",
    "    ascii = get_ascii(password)\n",
    "    i = len(password) - 1\n",
    "    c1, c2, c3 = False, False, False\n",
    "    while not c1 or not c2 or not c3:\n",
    "        password = increment(password, i)\n",
    "        ascii = get_ascii(password)\n",
    "\n",
    "        # 3 letters following\n",
    "        c1 = has_consecutive_numbers(ascii)\n",
    "\n",
    "        # check no illegal letters\n",
    "        c2 = all([False if l in password else True for l in illegal_letters])\n",
    "\n",
    "        # two non-overlapping pairs\n",
    "        c3 = (\n",
    "            len(\n",
    "                np.unique(\n",
    "                    [\n",
    "                        password[i : i + 2]\n",
    "                        for i in range(len(password) - 1)\n",
    "                        if password[i] == password[i + 1]\n",
    "                    ]\n",
    "                )\n",
    "            )\n",
    "            > 1\n",
    "        )\n",
    "    return password\n",
    "\n",
    "\n",
    "p.answer_a = next_password(p.input_data)"
   ]
  },
  {
   "cell_type": "code",
   "execution_count": 1185,
   "id": "9759d4c6-5954-4b5b-9606-a84090feed0c",
   "metadata": {},
   "outputs": [],
   "source": [
    "p.answer_b = next_password(p.answer_a)"
   ]
  },
  {
   "cell_type": "markdown",
   "id": "323ee8b1-895a-4ffe-b129-49da7d9089ad",
   "metadata": {},
   "source": [
    "# Day 12"
   ]
  },
  {
   "cell_type": "code",
   "execution_count": 1361,
   "id": "5e2d98fb-25ad-4e46-ae76-6a804c6511ba",
   "metadata": {},
   "outputs": [],
   "source": [
    "p = Puzzle(2015, 12)\n",
    "data = json.loads(p.input_data)"
   ]
  },
  {
   "cell_type": "code",
   "execution_count": 1405,
   "id": "c9490bab-dfae-4189-a1d5-bc907915bb30",
   "metadata": {},
   "outputs": [],
   "source": [
    "def sum_recursive(data, ignore=None):\n",
    "    sum = 0\n",
    "\n",
    "    if isinstance(data, list):\n",
    "        for i in data:\n",
    "            sum += sum_recursive(i, ignore)\n",
    "    elif isinstance(data, dict):\n",
    "        if ignore not in data.values():\n",
    "            for i in data.values():\n",
    "                sum += sum_recursive(i, ignore)\n",
    "    elif isinstance(data, int):\n",
    "        sum += data\n",
    "    return sum"
   ]
  },
  {
   "cell_type": "code",
   "execution_count": 1401,
   "id": "5d4dfc0b-e1c4-46ee-917d-535618404dc3",
   "metadata": {
    "scrolled": true
   },
   "outputs": [],
   "source": [
    "p.answer_a = sum_recursive(data)\n",
    "p.answer_b = sum_recursive(data, \"red\")"
   ]
  },
  {
   "cell_type": "markdown",
   "id": "1a10c42b-f45e-4add-a748-118f2dd684d9",
   "metadata": {},
   "source": [
    "# Day 13"
   ]
  },
  {
   "cell_type": "code",
   "execution_count": 1409,
   "id": "4a13608d-c4fb-42ce-98a3-e70cf297f1c1",
   "metadata": {},
   "outputs": [],
   "source": [
    "p = Puzzle(2015, 13)\n",
    "data = p.input_data.split(\"\\n\")"
   ]
  },
  {
   "cell_type": "code",
   "execution_count": 1449,
   "id": "c73ce5e5-8360-40ab-97e8-3a5ec5b82811",
   "metadata": {},
   "outputs": [],
   "source": [
    "# create dictionnary with the level of \n",
    "# happiness of all pairs of poeple\n",
    "data[0].split()\n",
    "\n",
    "people = {}\n",
    "for d in data:\n",
    "    d = d.split()\n",
    "    if d[0] not in people:\n",
    "        people[d[0]] = {}\n",
    "    if d[2] == \"gain\":\n",
    "        people[d[0]][d[10][:-1]] = int(d[3])\n",
    "    else:\n",
    "        people[d[0]][d[10][:-1]] = -int(d[3])"
   ]
  },
  {
   "cell_type": "code",
   "execution_count": 1463,
   "id": "d5c55d9d-458e-4927-ac37-44305bf2a7f4",
   "metadata": {},
   "outputs": [],
   "source": [
    "# bruteforce all possibilities\n",
    "def max_happy(people):\n",
    "    max_happiness = 0\n",
    "    for table in permutations(people.keys()):\n",
    "        happiness = 0 \n",
    "        for i in range(1, len(table)-1):\n",
    "            happiness += people[table[i]][table[i-1]]\n",
    "            happiness += people[table[i]][table[i+1]]\n",
    "        \n",
    "        # first\n",
    "        happiness += people[table[0]][table[-1]]\n",
    "        happiness += people[table[0]][table[1]]\n",
    "    \n",
    "        # last\n",
    "        happiness += people[table[-1]][table[0]]\n",
    "        happiness += people[table[-1]][table[-2]]\n",
    "        \n",
    "        max_happiness = max(max_happiness, happiness)\n",
    "    return max_happiness\n",
    "    \n",
    "p.answer_a = max_happy(people)"
   ]
  },
  {
   "cell_type": "code",
   "execution_count": 1467,
   "id": "d86daba9-8970-4beb-8db0-c0804aba2469",
   "metadata": {},
   "outputs": [
    {
     "name": "stdout",
     "output_type": "stream",
     "text": [
      "\u001b[32mThat's the right answer!  You are one gold star closer to powering the weather machine.You have completed Day 13! You can [Shareon\n",
      "  Twitter\n",
      "Mastodon] this victory or [Return to Your Advent Calendar].\u001b[0m\n"
     ]
    }
   ],
   "source": [
    "# add myself to everyone\n",
    "people_me = people.copy()\n",
    "for k in people_me.keys():\n",
    "    people_me[k][\"Me\"] = 0\n",
    "\n",
    "# add my entry\n",
    "people_me[\"Me\"] = {}\n",
    "for k in people.keys():\n",
    "    people_me[\"Me\"][k] = 0\n",
    "\n",
    "p.answer_b = max_happy(people_me)"
   ]
  },
  {
   "cell_type": "markdown",
   "id": "b19e4248-550a-42d6-b7cc-538a2e2129ab",
   "metadata": {},
   "source": [
    "# Day 14"
   ]
  },
  {
   "cell_type": "code",
   "execution_count": null,
   "id": "193017e9-6204-4f78-8191-0fb1614e0b9e",
   "metadata": {},
   "outputs": [],
   "source": []
  }
 ],
 "metadata": {
  "kernelspec": {
   "display_name": "Python 3 (ipykernel)",
   "language": "python",
   "name": "python3"
  },
  "language_info": {
   "codemirror_mode": {
    "name": "ipython",
    "version": 3
   },
   "file_extension": ".py",
   "mimetype": "text/x-python",
   "name": "python",
   "nbconvert_exporter": "python",
   "pygments_lexer": "ipython3",
   "version": "3.11.6"
  }
 },
 "nbformat": 4,
 "nbformat_minor": 5
}
