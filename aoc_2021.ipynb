{
 "cells": [
  {
   "cell_type": "markdown",
   "metadata": {},
   "source": [
    "# https://adventofcode.com/2021/"
   ]
  },
  {
   "cell_type": "code",
   "execution_count": 4,
   "metadata": {},
   "outputs": [],
   "source": [
    "import numpy as np\n",
    "from aocd.models import Puzzle"
   ]
  },
  {
   "cell_type": "markdown",
   "metadata": {},
   "source": [
    "# Tips\n",
    "\n",
    "## Define the object\n",
    "- `puzzle = Puzzle(year=2017, day=20)` \n",
    "- `Puzzle(2017, 20) at 0x107322978 - Particle Swarm>`\n",
    "- get the input `puzzle.input_data`\n",
    "- subbit by setting:\n",
    "  - `puzzle.answer_a = value_a`\n",
    "  - `puzzle.answer_b = value_b`\n",
    "\n",
    "## Transform to list variables on multiple lines: \n",
    " - t = '''asd\n",
    "        asd \n",
    "        asd \n",
    "        asd'''.split('\\n')\n",
    "\n",
    "## Map a string list to integer \n",
    "- `map(int, list)`\n",
    "- `np.array(p.input_data.split('\\n'), dtype='int')`"
   ]
  },
  {
   "cell_type": "markdown",
   "metadata": {},
   "source": [
    "## Day 1"
   ]
  },
  {
   "cell_type": "code",
   "execution_count": 49,
   "metadata": {},
   "outputs": [
    {
     "name": "stdout",
     "output_type": "stream",
     "text": [
      "Part a already solved with same answer: 1529\n",
      "Part b already solved with same answer: 1567\n"
     ]
    }
   ],
   "source": [
    "p = Puzzle(2021, 1)\n",
    "data = np.array(p.input_data.split('\\n'), dtype='int')\n",
    "\n",
    "# diff larger than 0 to find how many times the depth increase\n",
    "p.answer_a = np.sum(np.diff(data) > 0)\n",
    "\n",
    "# compared trouple values\n",
    "trouple_sum = np.convolve(data, np.ones(3), mode='valid')\n",
    "p.answer_b = np.sum(np.diff(trouple_sum) > 0)"
   ]
  },
  {
   "cell_type": "markdown",
   "metadata": {},
   "source": [
    "## Day 2"
   ]
  },
  {
   "cell_type": "code",
   "execution_count": 91,
   "metadata": {},
   "outputs": [],
   "source": [
    "class submarine:\n",
    "    def __init__(self, x, depth, aim=0):\n",
    "        self.x = x\n",
    "        self.depth = depth\n",
    "        self.aim = aim\n",
    "        \n",
    "    def move(self, direction, step):\n",
    "        if direction == 'forward':\n",
    "            self.x += step\n",
    "        elif direction == 'up':\n",
    "            self.depth -= step\n",
    "        elif direction == 'down':\n",
    "            self.depth += step\n",
    "    \n",
    "    def move_aim(self, direction, step):\n",
    "        if direction == 'forward':\n",
    "            self.x += step\n",
    "            self.depth += self.aim * step\n",
    "        elif direction == 'up':\n",
    "            self.aim -= step\n",
    "        elif direction == 'down':\n",
    "            self.aim += step"
   ]
  },
  {
   "cell_type": "code",
   "execution_count": 92,
   "metadata": {},
   "outputs": [],
   "source": [
    "# test\n",
    "test_data = '''forward 5\n",
    "down 5\n",
    "forward 8\n",
    "up 3\n",
    "down 8\n",
    "forward 2'''.split('\\n')\n",
    "\n",
    "s = submarine(0,0)\n",
    "for move in test_data:\n",
    "    m = move.split(' ')\n",
    "    s.move(m[0], int(m[1]))\n",
    "assert s.x * s.depth == 150"
   ]
  },
  {
   "cell_type": "code",
   "execution_count": 97,
   "metadata": {},
   "outputs": [],
   "source": [
    "p = Puzzle(2021, 2)\n",
    "data = p.input_data.split('\\n')\n",
    "\n",
    "s = submarine(0,0)\n",
    "for move in data:\n",
    "    m = move.split(' ')\n",
    "    s.move(m[0], int(m[1]))\n",
    "    \n",
    "p.answer_a = s.x * s.depth\n",
    "\n",
    "s = submarine(0,0,0)\n",
    "for move in data:\n",
    "    m = move.split(' ')\n",
    "    s.move_aim(m[0], int(m[1]))\n",
    "    \n",
    "p.answer_b = s.x * s.depth"
   ]
  },
  {
   "cell_type": "markdown",
   "metadata": {},
   "source": [
    "# Day 3"
   ]
  },
  {
   "cell_type": "code",
   "execution_count": 104,
   "metadata": {},
   "outputs": [],
   "source": [
    "def str_to_dec(s):\n",
    "    bit_value = np.flip([2**i for i in range(0, len(s))])\n",
    "    return np.sum(s * bit_value)\n",
    "\n",
    "def common_digits(s, case):\n",
    "    if case == \"most\":\n",
    "        return 1 if np.sum(s) >= len(s)/2 else 0\n",
    "    if case == \"least\":\n",
    "        return 0 if np.sum(s) >= len(s)/2 else 1\n",
    "    return "
   ]
  },
  {
   "cell_type": "code",
   "execution_count": 105,
   "metadata": {},
   "outputs": [],
   "source": [
    "test_data = np.array('''00100\n",
    "11110\n",
    "10110\n",
    "10111\n",
    "10101\n",
    "01111\n",
    "00111\n",
    "11100\n",
    "10000\n",
    "11001\n",
    "00010\n",
    "01010'''.split('\\n'))\n",
    "\n",
    "test_data = np.array([list(l) for l in test_data], dtype='int')\n",
    "gamma_rate = (np.sum(test_data, 0) > len(test_data)/2) * 1\n",
    "epsilon_rate = (gamma_rate == 0) * 1\n",
    "assert str_to_dec(gamma_rate) * str_to_dec(epsilon_rate) == 198"
   ]
  },
  {
   "cell_type": "code",
   "execution_count": 106,
   "metadata": {},
   "outputs": [
    {
     "name": "stdout",
     "output_type": "stream",
     "text": [
      "Part a already solved with same answer: 3148794\n"
     ]
    }
   ],
   "source": [
    "p = Puzzle(2021, 3)\n",
    "data = p.input_data.split('\\n')\n",
    "data = np.array([list(l) for l in data], dtype='int')\n",
    "\n",
    "gamma_rate = (np.sum(data, 0) > len(data)/2) * 1\n",
    "epsilon_rate = (gamma_rate == 0) * 1\n",
    "p.answer_a = str_to_dec(gamma_rate) * str_to_dec(epsilon_rate)"
   ]
  },
  {
   "cell_type": "code",
   "execution_count": 151,
   "metadata": {},
   "outputs": [],
   "source": [
    "# Test part 2\n",
    "oxygen = np.ones(len(test_data), dtype='bool')\n",
    "scrubber = np.ones(len(test_data), dtype='bool')\n",
    "max_col = len(test_data[0])\n",
    "\n",
    "oxygen_rating = np.copy(test_data)\n",
    "col = 0\n",
    "while len(oxygen_rating) > 1 and col < max_col:\n",
    "    most_common = common_digits(oxygen_rating[:,col], 'most')\n",
    "    keep_lines = oxygen_rating[:,col] == most_common\n",
    "    oxygen_rating = oxygen_rating[keep_lines]\n",
    "    col += 1\n",
    "\n",
    "col = 0\n",
    "scrubber_rating = np.copy(test_data)\n",
    "while len(scrubber_rating) > 1 and col < max_col:\n",
    "    least_common = common_digits(scrubber_rating[:,col], 'least')\n",
    "    keep_lines = scrubber_rating[:,col] == least_common\n",
    "    scrubber_rating = scrubber_rating[keep_lines]\n",
    "    col += 1\n",
    "    \n",
    "assert str_to_dec(oxygen_rating[0]) * str_to_dec(scrubber_rating[0]) == 230"
   ]
  },
  {
   "cell_type": "code",
   "execution_count": 152,
   "metadata": {},
   "outputs": [
    {
     "name": "stdout",
     "output_type": "stream",
     "text": [
      "Part b already solved with same answer: 2795310\n"
     ]
    }
   ],
   "source": [
    "# part 2\n",
    "oxygen = np.ones(len(data), dtype='bool')\n",
    "scrubber = np.ones(len(data), dtype='bool')\n",
    "max_col = len(data[0])\n",
    "\n",
    "oxygen_rating = np.copy(data)\n",
    "col = 0\n",
    "while len(oxygen_rating) > 1 and col < max_col:\n",
    "    most_common = common_digits(oxygen_rating[:,col], 'most')\n",
    "    keep_lines = oxygen_rating[:,col] == most_common\n",
    "    oxygen_rating = oxygen_rating[keep_lines]\n",
    "    col += 1\n",
    "\n",
    "col = 0\n",
    "scrubber_rating = np.copy(data)\n",
    "while len(scrubber_rating) > 1 and col < max_col:\n",
    "    least_common = common_digits(scrubber_rating[:,col], 'least')\n",
    "    keep_lines = scrubber_rating[:,col] == least_common\n",
    "    scrubber_rating = scrubber_rating[keep_lines]\n",
    "    col += 1\n",
    "    \n",
    "p.answer_b = str_to_dec(oxygen_rating[0]) * str_to_dec(scrubber_rating[0])"
   ]
  },
  {
   "cell_type": "markdown",
   "metadata": {
    "tags": []
   },
   "source": [
    "# Day 4"
   ]
  },
  {
   "cell_type": "code",
   "execution_count": 212,
   "metadata": {},
   "outputs": [],
   "source": [
    "class boards:\n",
    "    def __init__(self, lines):\n",
    "        self.b = np.zeros((5,5), dtype='int')\n",
    "        self.last_number = -1\n",
    "        self.drawn = np.zeros((5,5), dtype='bool')\n",
    "        self.nbdrawn = 0\n",
    "\n",
    "        for i, line in enumerate(lines):\n",
    "            self.b[i] = line.split()\n",
    "        \n",
    "    def draw(self, num):\n",
    "        self.nbdrawn += 1\n",
    "        if num in self.b:\n",
    "            self.last_number = num\n",
    "            self.drawn[np.where(self.b == num)] = True\n",
    "    \n",
    "    def test_bingo(self):\n",
    "        if np.any(np.sum(self.drawn, 0) == 5) or np.any(np.sum(self.drawn, 1) == 5):\n",
    "            return True\n",
    "        else:\n",
    "            return False\n",
    "        \n",
    "def split_input(lines):\n",
    "    numbers = map(int, lines[0].split(','))\n",
    "    \n",
    "    i = 2\n",
    "    boards = []\n",
    "    while i < len(lines):\n",
    "        boards.append(lines[i:i+5])\n",
    "        i += 6\n",
    "        \n",
    "    return numbers, boards"
   ]
  },
  {
   "cell_type": "code",
   "execution_count": 213,
   "metadata": {},
   "outputs": [],
   "source": [
    "test_data = '''7,4,9,5,11,17,23,2,0,14,21,24,10,16,13,6,15,25,12,22,18,20,8,19,3,26,1\n",
    "\n",
    "22 13 17 11  0\n",
    " 8  2 23  4 24\n",
    "21  9 14 16  7\n",
    " 6 10  3 18  5\n",
    " 1 12 20 15 19\n",
    "\n",
    " 3 15  0  2 22\n",
    " 9 18 13 17  5\n",
    "19  8  7 25 23\n",
    "20 11 10 24  4\n",
    "14 21 16 12  6\n",
    "\n",
    "14 21 17 24  4\n",
    "10 16 15  9 19\n",
    "18  8 23 26 20\n",
    "22 11 13  6  5\n",
    " 2  0 12  3  7'''.split('\\n')\n",
    "\n",
    "input_numbers, input_boards = split_input(test_data)\n",
    "\n",
    "boards_obj = []\n",
    "for b in input_boards:\n",
    "    boards_obj.append(boards(b))\n",
    "\n",
    "answer_a = None\n",
    "for num in input_numbers:\n",
    "    for board in boards_obj:\n",
    "        if not board.test_bingo():\n",
    "            board.draw(num)\n",
    "        if board.test_bingo() and answer_a is None:\n",
    "            answer_a = np.sum(board.b[~board.drawn]) * board.last_number\n",
    "\n",
    "assert answer_a == 4512\n",
    "\n",
    "nb_to_win = 0\n",
    "for i, board in enumerate(boards_obj):\n",
    "    if board.nbdrawn > nb_to_win:\n",
    "        ltw = i\n",
    "        nb_to_win = board.nbdrawn\n",
    "\n",
    "answer_b = np.sum(boards_obj[ltw].b[~boards_obj[ltw].drawn]) * boards_obj[ltw].last_number\n",
    "assert answer_b == 1924"
   ]
  },
  {
   "cell_type": "code",
   "execution_count": 214,
   "metadata": {},
   "outputs": [
    {
     "name": "stdout",
     "output_type": "stream",
     "text": [
      "Part a already solved with same answer: 16674\n",
      "Part b already solved with same answer: 7075\n"
     ]
    }
   ],
   "source": [
    "p = Puzzle(2021, 4)\n",
    "data = p.input_data.split('\\n')\n",
    "input_numbers, input_boards = split_input(data)\n",
    "\n",
    "boards_obj = []\n",
    "for b in input_boards:\n",
    "    boards_obj.append(boards(b))\n",
    "    \n",
    "for num in input_numbers:\n",
    "    for board in boards_obj:\n",
    "        if not board.test_bingo():\n",
    "            board.draw(num)\n",
    "        if board.test_bingo() and answer_a is None:\n",
    "            answer_a = np.sum(board.b[~board.drawn]) * board.last_number\n",
    "\n",
    "p.answer_a = ans\n",
    "\n",
    "nb_to_win = 0\n",
    "for i, board in enumerate(boards_obj):\n",
    "    if board.nbdrawn > nb_to_win:\n",
    "        nb_to_win = board.nbdrawn\n",
    "        ltw = i # last to win index        \n",
    "\n",
    "p.answer_b = np.sum(boards_obj[ltw].b[~boards_obj[ltw].drawn]) * boards_obj[ltw].last_number"
   ]
  },
  {
   "cell_type": "markdown",
   "metadata": {},
   "source": [
    "# Day 5"
   ]
  },
  {
   "cell_type": "code",
   "execution_count": 5,
   "metadata": {},
   "outputs": [],
   "source": [
    "p = Puzzle(2021, 5)"
   ]
  },
  {
   "cell_type": "code",
   "execution_count": 6,
   "metadata": {},
   "outputs": [],
   "source": [
    "data = (','.join((','.join(p.input_data.split(' -> '))).split('\\n'))).split(',')\n",
    "data = np.array(data, dtype='int').reshape(-1,4)"
   ]
  },
  {
   "cell_type": "code",
   "execution_count": 74,
   "metadata": {},
   "outputs": [],
   "source": [
    "def move(x1, y1, x2, y2, diag=False):\n",
    "    dx = np.sign(x2 - x1)\n",
    "    dy = np.sign(y2 - y1)\n",
    "    \n",
    "    if dy == 0: # horizontal\n",
    "        n = np.abs(x2 - x1)\n",
    "        for i in range(0, n + 1):\n",
    "            grid[x1+i*dx, y1] += 1\n",
    "        \n",
    "    elif dx == 0: # vertical\n",
    "        n = np.abs(y2 - y1)\n",
    "        for i in range(0, n + 1):\n",
    "            grid[x1, y1 + i*dy] += 1\n",
    "        \n",
    "    else: # diagonal\n",
    "        if diag:\n",
    "            n = np.abs(x2-x1)\n",
    "            assert(n == np.abs(y2-y1)) # otherwise not diag\n",
    "            \n",
    "            for i in range(0, n + 1):\n",
    "                grid[x1 + i*dx, y1 + i*dy] += 1\n",
    "        else:\n",
    "            pass"
   ]
  },
  {
   "cell_type": "code",
   "execution_count": 75,
   "metadata": {},
   "outputs": [
    {
     "name": "stdout",
     "output_type": "stream",
     "text": [
      "Part a already solved with same answer: 5280\n"
     ]
    }
   ],
   "source": [
    "grid = np.zeros((np.max(data)+1, np.max(data)+1))\n",
    "\n",
    "for d in data:\n",
    "    m = move(d[0],d[1],d[2],d[3])\n",
    "\n",
    "p.answer_a = np.sum(grid>=2)"
   ]
  },
  {
   "cell_type": "code",
   "execution_count": 76,
   "metadata": {},
   "outputs": [
    {
     "name": "stdout",
     "output_type": "stream",
     "text": [
      "Part b already solved with same answer: 16716\n"
     ]
    }
   ],
   "source": [
    "grid = np.zeros((np.max(data)+1, np.max(data)+1))\n",
    "\n",
    "for d in data:\n",
    "    m = move(d[0],d[1],d[2],d[3], diag=True)\n",
    "\n",
    "p.answer_b = np.sum(grid>=2)"
   ]
  },
  {
   "cell_type": "markdown",
   "metadata": {},
   "source": [
    "# Day 6"
   ]
  },
  {
   "cell_type": "code",
   "execution_count": 227,
   "metadata": {},
   "outputs": [],
   "source": [
    "p = Puzzle(2021, 6)\n",
    "data = np.array(p.input_data.split(','), dtype='int')"
   ]
  },
  {
   "cell_type": "code",
   "execution_count": 232,
   "metadata": {},
   "outputs": [
    {
     "name": "stdout",
     "output_type": "stream",
     "text": [
      "Part a already solved with same answer: 372300\n"
     ]
    }
   ],
   "source": [
    "# store as a simple list\n",
    "# each index contains the number of lanternfish at this stage\n",
    "fish = np.zeros(9, dtype='int')\n",
    "v, c = np.unique(data, return_counts=True)\n",
    "fish[v] = c\n",
    "\n",
    "for i in range(0, 80):\n",
    "    fish = np.roll(fish, -1) # decrease and create kids\n",
    "    fish[6] += fish[8]  # add back parents to 6 days\n",
    "\n",
    "p.answer_a = np.sum(fish)"
   ]
  },
  {
   "cell_type": "code",
   "execution_count": 231,
   "metadata": {},
   "outputs": [
    {
     "name": "stdout",
     "output_type": "stream",
     "text": [
      "Part b already solved with same answer: 1675781200288\n"
     ]
    }
   ],
   "source": [
    "# this loop to 256 can't be done by increasing a list every step\n",
    "# the solution I found is pretty efficient would like to\n",
    "# see other implementations\n",
    "fish = np.zeros(9, dtype='int')\n",
    "v, c = np.unique(data, return_counts=True)\n",
    "fish[v] = c\n",
    "\n",
    "for i in range(0, 256):\n",
    "    fish = np.roll(fish, -1) # decrease and create kids\n",
    "    fish[6] += fish[8]  # add back parents to 6 days\n",
    "\n",
    "p.answer_b = np.sum(fish)"
   ]
  },
  {
   "cell_type": "markdown",
   "metadata": {},
   "source": [
    "# Day 7"
   ]
  },
  {
   "cell_type": "code",
   "execution_count": null,
   "metadata": {},
   "outputs": [],
   "source": []
  },
  {
   "cell_type": "markdown",
   "metadata": {},
   "source": [
    "# Day 8"
   ]
  },
  {
   "cell_type": "code",
   "execution_count": null,
   "metadata": {},
   "outputs": [],
   "source": []
  },
  {
   "cell_type": "markdown",
   "metadata": {},
   "source": [
    "# Day 9"
   ]
  },
  {
   "cell_type": "code",
   "execution_count": null,
   "metadata": {},
   "outputs": [],
   "source": []
  },
  {
   "cell_type": "markdown",
   "metadata": {},
   "source": [
    "# Day 10"
   ]
  },
  {
   "cell_type": "code",
   "execution_count": null,
   "metadata": {},
   "outputs": [],
   "source": []
  },
  {
   "cell_type": "markdown",
   "metadata": {},
   "source": [
    "# Day 11"
   ]
  },
  {
   "cell_type": "code",
   "execution_count": null,
   "metadata": {},
   "outputs": [],
   "source": []
  },
  {
   "cell_type": "markdown",
   "metadata": {},
   "source": [
    "# Day 12"
   ]
  },
  {
   "cell_type": "code",
   "execution_count": null,
   "metadata": {},
   "outputs": [],
   "source": []
  },
  {
   "cell_type": "markdown",
   "metadata": {
    "tags": []
   },
   "source": [
    "# Day 13"
   ]
  },
  {
   "cell_type": "code",
   "execution_count": null,
   "metadata": {},
   "outputs": [],
   "source": []
  },
  {
   "cell_type": "markdown",
   "metadata": {},
   "source": [
    "# Day 14"
   ]
  },
  {
   "cell_type": "code",
   "execution_count": null,
   "metadata": {},
   "outputs": [],
   "source": []
  },
  {
   "cell_type": "markdown",
   "metadata": {},
   "source": [
    "# Day 15"
   ]
  },
  {
   "cell_type": "code",
   "execution_count": null,
   "metadata": {},
   "outputs": [],
   "source": []
  },
  {
   "cell_type": "markdown",
   "metadata": {},
   "source": [
    "# Day 16"
   ]
  },
  {
   "cell_type": "code",
   "execution_count": null,
   "metadata": {},
   "outputs": [],
   "source": []
  },
  {
   "cell_type": "markdown",
   "metadata": {},
   "source": [
    "# Day 17"
   ]
  },
  {
   "cell_type": "code",
   "execution_count": null,
   "metadata": {},
   "outputs": [],
   "source": []
  },
  {
   "cell_type": "markdown",
   "metadata": {},
   "source": [
    "# Day 18"
   ]
  },
  {
   "cell_type": "code",
   "execution_count": null,
   "metadata": {},
   "outputs": [],
   "source": []
  },
  {
   "cell_type": "markdown",
   "metadata": {},
   "source": [
    "# Day 19"
   ]
  },
  {
   "cell_type": "code",
   "execution_count": null,
   "metadata": {},
   "outputs": [],
   "source": []
  },
  {
   "cell_type": "markdown",
   "metadata": {},
   "source": [
    "# Day 20"
   ]
  },
  {
   "cell_type": "code",
   "execution_count": null,
   "metadata": {},
   "outputs": [],
   "source": []
  },
  {
   "cell_type": "markdown",
   "metadata": {},
   "source": [
    "# Day 21"
   ]
  },
  {
   "cell_type": "code",
   "execution_count": null,
   "metadata": {},
   "outputs": [],
   "source": []
  },
  {
   "cell_type": "markdown",
   "metadata": {},
   "source": [
    "# Day 22"
   ]
  },
  {
   "cell_type": "code",
   "execution_count": null,
   "metadata": {},
   "outputs": [],
   "source": []
  },
  {
   "cell_type": "markdown",
   "metadata": {},
   "source": [
    "# Day 23"
   ]
  },
  {
   "cell_type": "code",
   "execution_count": null,
   "metadata": {},
   "outputs": [],
   "source": []
  },
  {
   "cell_type": "markdown",
   "metadata": {},
   "source": [
    "# Day 24"
   ]
  },
  {
   "cell_type": "code",
   "execution_count": null,
   "metadata": {},
   "outputs": [],
   "source": []
  },
  {
   "cell_type": "markdown",
   "metadata": {},
   "source": [
    "# Day 25"
   ]
  },
  {
   "cell_type": "code",
   "execution_count": null,
   "metadata": {},
   "outputs": [],
   "source": []
  }
 ],
 "metadata": {
  "kernelspec": {
   "display_name": "Python 3 (ipykernel)",
   "language": "python",
   "name": "python3"
  },
  "language_info": {
   "codemirror_mode": {
    "name": "ipython",
    "version": 3
   },
   "file_extension": ".py",
   "mimetype": "text/x-python",
   "name": "python",
   "nbconvert_exporter": "python",
   "pygments_lexer": "ipython3",
   "version": "3.11.0"
  }
 },
 "nbformat": 4,
 "nbformat_minor": 4
}
